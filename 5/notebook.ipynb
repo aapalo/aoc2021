{
 "cells": [
  {
   "cell_type": "code",
   "execution_count": 1,
   "id": "0959b566-c31a-4cf9-aa16-da1d71f21a52",
   "metadata": {},
   "outputs": [],
   "source": [
    "#!/usr/bin/python3"
   ]
  },
  {
   "cell_type": "code",
   "execution_count": 2,
   "id": "cb88d538-8fc9-46c7-8140-4675c3a6ceb1",
   "metadata": {},
   "outputs": [],
   "source": [
    "#from collections import Counter\n",
    "#import re\n",
    "#import os\n",
    "#import time\n",
    "from collections import defaultdict\n",
    "#from collections import deque"
   ]
  },
  {
   "cell_type": "code",
   "execution_count": 3,
   "id": "f55b7992-aa00-49bd-8321-64bbd778e15e",
   "metadata": {},
   "outputs": [],
   "source": [
    "date = 5\n",
    "dev = 0 # extra prints\n",
    "part = 1 # 1,2, or 3 for both\n",
    "# 0 or 1:\n",
    "samp = 0"
   ]
  },
  {
   "cell_type": "markdown",
   "id": "88404eb8-4034-4bdd-9dae-86e31d39efba",
   "metadata": {
    "tags": []
   },
   "source": [
    "## Read the input data "
   ]
  },
  {
   "cell_type": "code",
   "execution_count": 4,
   "id": "95c6dda8-9ebf-4edc-bfc1-078ba6b51e32",
   "metadata": {},
   "outputs": [],
   "source": [
    "#time0 = time.time()\n",
    "\n",
    "if samp == 1:\n",
    "    filename = \"/sample.txt\"\n",
    "else:\n",
    "    filename = \"/input.txt\"\n",
    "try:\n",
    "    with open(str(date) + filename,\"r\") as f:\n",
    "        t = f.readlines()\n",
    "except FileNotFoundError:\n",
    "    with open(\".\" + filename,\"r\") as f:\n",
    "        t = f.readlines()\n",
    "\n",
    "t = [(x.strip().replace('  ',' ')) for x in t]\n",
    "#t = [int(x) for x in t]"
   ]
  },
  {
   "cell_type": "code",
   "execution_count": 5,
   "id": "68d62a33-8fb5-4270-aec0-255413010b57",
   "metadata": {},
   "outputs": [],
   "source": [
    "## Run the program\n",
    "if 0:\n",
    "    if part == 1:\n",
    "        print(\"Part 1: \", day(t))\n",
    "    elif part == 2:\n",
    "        print(\"Part 2: \", day2(t))\n",
    "    elif part == 3:\n",
    "        pass\n",
    "        #run both\n",
    "        #print(\"Part 1: \", day(t))\n",
    "        #print(\"Part 2: \", day2(t))\n",
    "\n",
    "#tdif = time.time() - time0\n",
    "#print(\"Elapsed time: {:.4f} s\".format(tdif))"
   ]
  },
  {
   "cell_type": "markdown",
   "id": "e4a219ce-1941-48f2-9b11-4717581c82c9",
   "metadata": {},
   "source": [
    "## Part one"
   ]
  },
  {
   "cell_type": "code",
   "execution_count": 6,
   "id": "5ae65db8-f67a-41e8-bf4e-228c0eae27e6",
   "metadata": {},
   "outputs": [
    {
     "name": "stdout",
     "output_type": "stream",
     "text": [
      "[[0, 0], [-1, 1], [-2, 2], [-3, 3], [-4, 4]]\n"
     ]
    }
   ],
   "source": [
    "# return a list of coordinates between the two points\n",
    "def diagonal(x1,y1, x2,y2):\n",
    "    if x2 > x1:\n",
    "        dx = 1\n",
    "    else:\n",
    "        dx = -1\n",
    "    if y2 > y1:\n",
    "        dy = 1\n",
    "    else:\n",
    "        dy = -1\n",
    "    x = x1\n",
    "    y = y1\n",
    "    points = [[x1,y1]]\n",
    "    while 1:\n",
    "        x += dx\n",
    "        y += dy\n",
    "        points.append([x,y])\n",
    "        if x == x2:\n",
    "            break\n",
    "    return points\n",
    "        \n",
    "print(diagonal(0,0, -4,4))"
   ]
  },
  {
   "cell_type": "code",
   "execution_count": 7,
   "id": "72b8f11d-18f0-4f2e-9438-75aff4b78bc1",
   "metadata": {
    "tags": []
   },
   "outputs": [
    {
     "data": {
      "text/plain": [
       "6666"
      ]
     },
     "execution_count": 7,
     "metadata": {},
     "output_type": "execute_result"
    }
   ],
   "source": [
    "def day(te, part2):\n",
    "    if samp:\n",
    "        mx = 10 #max X\n",
    "        my = 10 #max Y\n",
    "    else:\n",
    "        mx = 990\n",
    "        my = 990\n",
    "    vents = defaultdict(list)\n",
    "    for k in range(my):\n",
    "        vents[k] = [0] * mx\n",
    "    for row in te:\n",
    "        row = row.split() # ['0,9', '->', '5,9']\n",
    "        [x1,y1] = row[0].split(\",\")\n",
    "        x1 = int(x1)\n",
    "        y1 = int(y1)\n",
    "        [x2,y2] = row[2].split(\",\")\n",
    "        x2 = int(x2)\n",
    "        y2 = int(y2)\n",
    "        if (x1 == x2):\n",
    "            # vertical\n",
    "            for y in range(min(y1,y2), max(y1,y2) + 1):\n",
    "                vents[y][x1] += 1\n",
    "        elif (y1 == y2):\n",
    "            # horisontal\n",
    "            for x in range(min(x1,x2), max(x1,x2) + 1):\n",
    "                vents[y1][x] += 1\n",
    "        else: \n",
    "            if part2:\n",
    "                for c in diagonal(x1,y1, x2,y2):\n",
    "                    vents[c[1]][c[0]] += 1\n",
    "    overlaps = 0\n",
    "    for y in range(my):\n",
    "        #print(vents[y])\n",
    "        for x in range(mx):\n",
    "            if vents[y][x] > 1:\n",
    "                overlaps += 1\n",
    "    \n",
    "    return overlaps\n",
    "day(t, 0)"
   ]
  },
  {
   "cell_type": "markdown",
   "id": "99b4800a-d2b1-4fb8-a6fb-af8b8d5f80cb",
   "metadata": {},
   "source": [
    "## Part two"
   ]
  },
  {
   "cell_type": "code",
   "execution_count": 8,
   "id": "aa19182a-5969-4229-9b5c-8630a4e51d53",
   "metadata": {
    "tags": []
   },
   "outputs": [
    {
     "data": {
      "text/plain": [
       "19081"
      ]
     },
     "execution_count": 8,
     "metadata": {},
     "output_type": "execute_result"
    }
   ],
   "source": [
    "day(t, 1)"
   ]
  }
 ],
 "metadata": {
  "kernelspec": {
   "display_name": "Python 3 (ipykernel)",
   "language": "python",
   "name": "python3"
  },
  "language_info": {
   "codemirror_mode": {
    "name": "ipython",
    "version": 3
   },
   "file_extension": ".py",
   "mimetype": "text/x-python",
   "name": "python",
   "nbconvert_exporter": "python",
   "pygments_lexer": "ipython3",
   "version": "3.9.2"
  }
 },
 "nbformat": 4,
 "nbformat_minor": 5
}
