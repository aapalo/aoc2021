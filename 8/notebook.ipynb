{
 "cells": [
  {
   "cell_type": "code",
   "execution_count": 37,
   "id": "0959b566-c31a-4cf9-aa16-da1d71f21a52",
   "metadata": {},
   "outputs": [],
   "source": [
    "#!/usr/bin/python3"
   ]
  },
  {
   "cell_type": "code",
   "execution_count": 38,
   "id": "cb88d538-8fc9-46c7-8140-4675c3a6ceb1",
   "metadata": {},
   "outputs": [],
   "source": [
    "#from collections import Counter\n",
    "#import re\n",
    "#import os\n",
    "#import time\n",
    "#from collections import defaultdict\n",
    "#from collections import deque"
   ]
  },
  {
   "cell_type": "code",
   "execution_count": 39,
   "id": "f55b7992-aa00-49bd-8321-64bbd778e15e",
   "metadata": {},
   "outputs": [
    {
     "name": "stdout",
     "output_type": "stream",
     "text": [
      "https://adventofcode.com/2021/day/8\n"
     ]
    }
   ],
   "source": [
    "date = 8\n",
    "dev = 0 # extra prints\n",
    "part = 1 # 1,2, or 3 for both\n",
    "# 0 or 1:\n",
    "samp = 1\n",
    "print(\"https://adventofcode.com/2021/day/{}\".format(date))"
   ]
  },
  {
   "cell_type": "markdown",
   "id": "88404eb8-4034-4bdd-9dae-86e31d39efba",
   "metadata": {
    "tags": []
   },
   "source": [
    "## Read the input data "
   ]
  },
  {
   "cell_type": "code",
   "execution_count": 40,
   "id": "95c6dda8-9ebf-4edc-bfc1-078ba6b51e32",
   "metadata": {},
   "outputs": [],
   "source": [
    "#time0 = time.time()\n",
    "\n",
    "if samp == 1:\n",
    "    filename = \"/sample.txt\"\n",
    "else:\n",
    "    filename = \"/input.txt\"\n",
    "try:\n",
    "    with open(str(date) + filename,\"r\") as f:\n",
    "        t = f.readlines()\n",
    "except FileNotFoundError:\n",
    "    with open(\".\" + filename,\"r\") as f:\n",
    "        t = f.readlines()\n",
    "\n",
    "t = [(x.strip().replace('  ',' ')) for x in t]\n",
    "#t = [int(x) for x in t]"
   ]
  },
  {
   "cell_type": "code",
   "execution_count": 41,
   "id": "68d62a33-8fb5-4270-aec0-255413010b57",
   "metadata": {},
   "outputs": [],
   "source": [
    "## Run the program\n",
    "if 0:\n",
    "    if part == 1:\n",
    "        print(\"Part 1: \", day(t))\n",
    "    elif part == 2:\n",
    "        print(\"Part 2: \", day2(t))\n",
    "    elif part == 3:\n",
    "        pass\n",
    "        #run both\n",
    "        #print(\"Part 1: \", day(t))\n",
    "        #print(\"Part 2: \", day2(t))\n",
    "\n",
    "#tdif = time.time() - time0\n",
    "#print(\"Elapsed time: {:.4f} s\".format(tdif))"
   ]
  },
  {
   "cell_type": "markdown",
   "id": "e4a219ce-1941-48f2-9b11-4717581c82c9",
   "metadata": {},
   "source": [
    "## Part one"
   ]
  },
  {
   "cell_type": "code",
   "execution_count": 42,
   "id": "72b8f11d-18f0-4f2e-9438-75aff4b78bc1",
   "metadata": {
    "tags": []
   },
   "outputs": [
    {
     "data": {
      "text/plain": [
       "26"
      ]
     },
     "execution_count": 42,
     "metadata": {},
     "output_type": "execute_result"
    }
   ],
   "source": [
    "def day(te):\n",
    "   \n",
    "    unilist = [2,3,4,7]\n",
    "    uniques = 0 # 1,4,7,8\n",
    "    for r in (te):\n",
    "        [a,b] = r.split(\" | \")\n",
    "        for i in b.split(\" \"):\n",
    "            if len(i) in unilist:\n",
    "                uniques += 1\n",
    "        #print(a,\"...\", b, uniques)\n",
    "        \n",
    "    return uniques\n",
    "day(t)"
   ]
  },
  {
   "cell_type": "markdown",
   "id": "99b4800a-d2b1-4fb8-a6fb-af8b8d5f80cb",
   "metadata": {},
   "source": [
    "## Part two"
   ]
  },
  {
   "cell_type": "code",
   "execution_count": null,
   "id": "574b9b37-6aa3-4fe9-b6f2-9da55c177ab7",
   "metadata": {},
   "outputs": [],
   "source": []
  },
  {
   "cell_type": "code",
   "execution_count": 46,
   "id": "aa19182a-5969-4229-9b5c-8630a4e51d53",
   "metadata": {
    "tags": []
   },
   "outputs": [
    {
     "ename": "UnboundLocalError",
     "evalue": "local variable 'uniques' referenced before assignment",
     "output_type": "error",
     "traceback": [
      "\u001b[0;31m---------------------------------------------------------------------------\u001b[0m",
      "\u001b[0;31mUnboundLocalError\u001b[0m                         Traceback (most recent call last)",
      "\u001b[0;32m/tmp/ipykernel_102656/3381691426.py\u001b[0m in \u001b[0;36m<module>\u001b[0;34m\u001b[0m\n\u001b[1;32m     10\u001b[0m         \u001b[0;31m#print(a,\"...\", b, uniques)\u001b[0m\u001b[0;34m\u001b[0m\u001b[0;34m\u001b[0m\u001b[0;34m\u001b[0m\u001b[0m\n\u001b[1;32m     11\u001b[0m     \u001b[0;32mreturn\u001b[0m \u001b[0;36m2\u001b[0m\u001b[0;34m\u001b[0m\u001b[0;34m\u001b[0m\u001b[0m\n\u001b[0;32m---> 12\u001b[0;31m \u001b[0mday2\u001b[0m\u001b[0;34m(\u001b[0m\u001b[0mt\u001b[0m\u001b[0;34m)\u001b[0m\u001b[0;34m\u001b[0m\u001b[0;34m\u001b[0m\u001b[0m\n\u001b[0m",
      "\u001b[0;32m/tmp/ipykernel_102656/3381691426.py\u001b[0m in \u001b[0;36mday2\u001b[0;34m(te)\u001b[0m\n\u001b[1;32m      7\u001b[0m         \u001b[0;32mfor\u001b[0m \u001b[0mi\u001b[0m \u001b[0;32min\u001b[0m \u001b[0mb\u001b[0m\u001b[0;34m.\u001b[0m\u001b[0msplit\u001b[0m\u001b[0;34m(\u001b[0m\u001b[0;34m\" \"\u001b[0m\u001b[0;34m)\u001b[0m\u001b[0;34m:\u001b[0m\u001b[0;34m\u001b[0m\u001b[0;34m\u001b[0m\u001b[0m\n\u001b[1;32m      8\u001b[0m             \u001b[0;32mif\u001b[0m \u001b[0mlen\u001b[0m\u001b[0;34m(\u001b[0m\u001b[0mi\u001b[0m\u001b[0;34m)\u001b[0m \u001b[0;32min\u001b[0m \u001b[0munilist\u001b[0m\u001b[0;34m:\u001b[0m\u001b[0;34m\u001b[0m\u001b[0;34m\u001b[0m\u001b[0m\n\u001b[0;32m----> 9\u001b[0;31m                 \u001b[0muniques\u001b[0m \u001b[0;34m+=\u001b[0m \u001b[0;36m1\u001b[0m\u001b[0;34m\u001b[0m\u001b[0;34m\u001b[0m\u001b[0m\n\u001b[0m\u001b[1;32m     10\u001b[0m         \u001b[0;31m#print(a,\"...\", b, uniques)\u001b[0m\u001b[0;34m\u001b[0m\u001b[0;34m\u001b[0m\u001b[0;34m\u001b[0m\u001b[0m\n\u001b[1;32m     11\u001b[0m     \u001b[0;32mreturn\u001b[0m \u001b[0;36m2\u001b[0m\u001b[0;34m\u001b[0m\u001b[0;34m\u001b[0m\u001b[0m\n",
      "\u001b[0;31mUnboundLocalError\u001b[0m: local variable 'uniques' referenced before assignment"
     ]
    }
   ],
   "source": [
    "def day2(te):\n",
    "    numbers = [\"abcefg\", \"cf\",     \"acdeg\", \"acdfg\",   \"bcdf\",\n",
    "               \"abdfg\",  \"abdefg\", \"acf\",   \"abcdefg\", \"abcdfg\"] # 0 ... 9\n",
    "    unilist = [len(numbers[1]), len(numbers[4]), len(numbers[7]), len(numbers[8])]\n",
    "    for r in (te):\n",
    "        [a,b] = r.split(\" | \")\n",
    "        for i in b.split(\" \"):\n",
    "            \n",
    "        #print(a,\"...\", b, uniques)\n",
    "    return 2\n",
    "day2(t)"
   ]
  }
 ],
 "metadata": {
  "kernelspec": {
   "display_name": "Python 3 (ipykernel)",
   "language": "python",
   "name": "python3"
  },
  "language_info": {
   "codemirror_mode": {
    "name": "ipython",
    "version": 3
   },
   "file_extension": ".py",
   "mimetype": "text/x-python",
   "name": "python",
   "nbconvert_exporter": "python",
   "pygments_lexer": "ipython3",
   "version": "3.9.2"
  }
 },
 "nbformat": 4,
 "nbformat_minor": 5
}
