{
 "cells": [
  {
   "cell_type": "code",
   "execution_count": 1,
   "id": "0959b566-c31a-4cf9-aa16-da1d71f21a52",
   "metadata": {},
   "outputs": [],
   "source": [
    "#!/usr/bin/python3"
   ]
  },
  {
   "cell_type": "code",
   "execution_count": 2,
   "id": "cb88d538-8fc9-46c7-8140-4675c3a6ceb1",
   "metadata": {},
   "outputs": [],
   "source": [
    "#from collections import Counter\n",
    "#import re\n",
    "#import os\n",
    "#import time\n",
    "from collections import defaultdict\n",
    "#from collections import deque"
   ]
  },
  {
   "cell_type": "code",
   "execution_count": 3,
   "id": "f55b7992-aa00-49bd-8321-64bbd778e15e",
   "metadata": {},
   "outputs": [],
   "source": [
    "date = 6\n",
    "dev = 0 # extra prints\n",
    "part = 1 # 1,2, or 3 for both\n",
    "# 0 or 1:\n",
    "samp = 0"
   ]
  },
  {
   "cell_type": "markdown",
   "id": "88404eb8-4034-4bdd-9dae-86e31d39efba",
   "metadata": {
    "tags": []
   },
   "source": [
    "## Read the input data "
   ]
  },
  {
   "cell_type": "code",
   "execution_count": 4,
   "id": "95c6dda8-9ebf-4edc-bfc1-078ba6b51e32",
   "metadata": {},
   "outputs": [],
   "source": [
    "#time0 = time.time()\n",
    "\n",
    "if samp == 1:\n",
    "    filename = \"/sample.txt\"\n",
    "else:\n",
    "    filename = \"/input.txt\"\n",
    "try:\n",
    "    with open(str(date) + filename,\"r\") as f:\n",
    "        t = f.readlines()\n",
    "except FileNotFoundError:\n",
    "    with open(\".\" + filename,\"r\") as f:\n",
    "        t = f.readlines()\n",
    "\n",
    "t = [(x.strip().replace('  ',' ')) for x in t]\n",
    "#t = [int(x) for x in t]"
   ]
  },
  {
   "cell_type": "code",
   "execution_count": 5,
   "id": "68d62a33-8fb5-4270-aec0-255413010b57",
   "metadata": {},
   "outputs": [],
   "source": [
    "## Run the program\n",
    "if 0:\n",
    "    if part == 1:\n",
    "        print(\"Part 1: \", day(t))\n",
    "    elif part == 2:\n",
    "        print(\"Part 2: \", day2(t))\n",
    "    elif part == 3:\n",
    "        pass\n",
    "        #run both\n",
    "        #print(\"Part 1: \", day(t))\n",
    "        #print(\"Part 2: \", day2(t))\n",
    "\n",
    "#tdif = time.time() - time0\n",
    "#print(\"Elapsed time: {:.4f} s\".format(tdif))"
   ]
  },
  {
   "cell_type": "markdown",
   "id": "e4a219ce-1941-48f2-9b11-4717581c82c9",
   "metadata": {},
   "source": [
    "## Part one"
   ]
  },
  {
   "cell_type": "code",
   "execution_count": 6,
   "id": "72b8f11d-18f0-4f2e-9438-75aff4b78bc1",
   "metadata": {
    "tags": []
   },
   "outputs": [
    {
     "data": {
      "text/plain": [
       "388739"
      ]
     },
     "execution_count": 6,
     "metadata": {},
     "output_type": "execute_result"
    }
   ],
   "source": [
    "def day(te, maxday):\n",
    "    fish = [] #list of lanternfishes\n",
    "    for i in (te[0].split(\",\")):\n",
    "        fish.append(int(i))\n",
    "    d = 0\n",
    "    while d < maxday:\n",
    "        d += 1\n",
    "        newfish = 0\n",
    "        for f in range(len(fish)):\n",
    "            if fish[f] == 0:\n",
    "                fish[f] = 6\n",
    "                newfish += 1\n",
    "            else:\n",
    "                fish[f] -= 1\n",
    "        for i in range(newfish):\n",
    "            fish.append(8)\n",
    "        #print(fish)\n",
    "    return len(fish)\n",
    "day(t, 80)"
   ]
  },
  {
   "cell_type": "markdown",
   "id": "99b4800a-d2b1-4fb8-a6fb-af8b8d5f80cb",
   "metadata": {},
   "source": [
    "## Part two"
   ]
  },
  {
   "cell_type": "code",
   "execution_count": 7,
   "id": "aa19182a-5969-4229-9b5c-8630a4e51d53",
   "metadata": {
    "tags": []
   },
   "outputs": [
    {
     "data": {
      "text/plain": [
       "1741362314973"
      ]
     },
     "execution_count": 7,
     "metadata": {},
     "output_type": "execute_result"
    }
   ],
   "source": [
    "def day2(te, maxday):\n",
    "    fish = [] #list of lanternfishes\n",
    "    for i in (te[0].split(\",\")):\n",
    "        fish.append(int(i))\n",
    "    fishlist = [0] * 9\n",
    "    keys = list(range(9))\n",
    "    for i in fish:\n",
    "        fishlist[i] += 1\n",
    "    #print(fishlist)\n",
    "    d = 0\n",
    "    while d < maxday:\n",
    "        newlist = [0] * 9\n",
    "        d += 1\n",
    "        for i in range(9):\n",
    "            if i == 8:\n",
    "                newlist[i] += fishlist[0]\n",
    "            elif i == 6:\n",
    "                newlist[6] += fishlist[0] + fishlist[7]\n",
    "            else:\n",
    "                newlist[i] += fishlist[i+1]\n",
    "        \n",
    "        #print(fishlist, sum(fishlist))\n",
    "        fishlist = newlist[:]\n",
    "    #print(fishlist)\n",
    "    return sum(fishlist)\n",
    "day2(t, 256)"
   ]
  },
  {
   "cell_type": "code",
   "execution_count": 8,
   "id": "ca726154-70c2-4b48-8fae-8a89bf8808e1",
   "metadata": {},
   "outputs": [
    {
     "data": {
      "text/plain": [
       "True"
      ]
     },
     "execution_count": 8,
     "metadata": {},
     "output_type": "execute_result"
    }
   ],
   "source": [
    "# Check Part 1 answer\n",
    "day2(t, 80) == day(t, 80)"
   ]
  }
 ],
 "metadata": {
  "kernelspec": {
   "display_name": "Python 3 (ipykernel)",
   "language": "python",
   "name": "python3"
  },
  "language_info": {
   "codemirror_mode": {
    "name": "ipython",
    "version": 3
   },
   "file_extension": ".py",
   "mimetype": "text/x-python",
   "name": "python",
   "nbconvert_exporter": "python",
   "pygments_lexer": "ipython3",
   "version": "3.9.2"
  }
 },
 "nbformat": 4,
 "nbformat_minor": 5
}
