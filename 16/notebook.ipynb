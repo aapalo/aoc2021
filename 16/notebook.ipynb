{
 "cells": [
  {
   "cell_type": "code",
   "execution_count": 1,
   "id": "0959b566-c31a-4cf9-aa16-da1d71f21a52",
   "metadata": {},
   "outputs": [],
   "source": [
    "#!/usr/bin/python3"
   ]
  },
  {
   "cell_type": "code",
   "execution_count": 2,
   "id": "cb88d538-8fc9-46c7-8140-4675c3a6ceb1",
   "metadata": {},
   "outputs": [],
   "source": [
    "#from collections import Counter\n",
    "#import re\n",
    "#import os\n",
    "import time\n",
    "#from collections import defaultdict\n",
    "#from collections import deque"
   ]
  },
  {
   "cell_type": "code",
   "execution_count": 3,
   "id": "f55b7992-aa00-49bd-8321-64bbd778e15e",
   "metadata": {},
   "outputs": [
    {
     "name": "stdout",
     "output_type": "stream",
     "text": [
      "https://adventofcode.com/2021/day/16\n"
     ]
    }
   ],
   "source": [
    "date = 16\n",
    "dev = 0 # extra prints\n",
    "part = 1 # 1,2, or 3 for both\n",
    "# 0 or 1:\n",
    "samp = 1\n",
    "print(\"https://adventofcode.com/2021/day/{}\".format(date))"
   ]
  },
  {
   "cell_type": "markdown",
   "id": "88404eb8-4034-4bdd-9dae-86e31d39efba",
   "metadata": {
    "tags": []
   },
   "source": [
    "## Read the input data "
   ]
  },
  {
   "cell_type": "code",
   "execution_count": 4,
   "id": "95c6dda8-9ebf-4edc-bfc1-078ba6b51e32",
   "metadata": {},
   "outputs": [],
   "source": [
    "#time0 = time.time()\n",
    "\n",
    "if samp == 1:\n",
    "    filename = \"/sample.txt\"\n",
    "else:\n",
    "    filename = \"/input.txt\"\n",
    "try:\n",
    "    with open(str(date) + filename,\"r\") as f:\n",
    "        t = f.readlines()\n",
    "except FileNotFoundError:\n",
    "    with open(\".\" + filename,\"r\") as f:\n",
    "        t = f.readlines()\n",
    "\n",
    "t = [(x.strip().replace('  ',' ')) for x in t]\n",
    "#t = [int(x) for x in t]"
   ]
  },
  {
   "cell_type": "markdown",
   "id": "e4a219ce-1941-48f2-9b11-4717581c82c9",
   "metadata": {},
   "source": [
    "## Part one"
   ]
  },
  {
   "cell_type": "code",
   "execution_count": 5,
   "id": "7e3c5288-8f5e-4ab0-9d17-984b84ee0682",
   "metadata": {},
   "outputs": [],
   "source": [
    "hextable = {'0':'0000', '1':'0001', '2':'0010', '3':'0011', '4':'0100',\n",
    "        '5':'0101', '6':'0110', '7':'0111', '8':'1000', '9':'1001',\n",
    "        'A':'1010', 'B':'1011', 'C':'1100', 'D':'1101', 'E':'1110', 'F':'1111'}"
   ]
  },
  {
   "cell_type": "code",
   "execution_count": 6,
   "id": "5ae65db8-f67a-41e8-bf4e-228c0eae27e6",
   "metadata": {},
   "outputs": [],
   "source": [
    "def hextobits(h):\n",
    "    b = \"\"\n",
    "    for i in h:\n",
    "        b += hextable[i]\n",
    "    #print(h, b)\n",
    "    return b\n",
    "\n",
    "#hextobits('012')"
   ]
  },
  {
   "cell_type": "code",
   "execution_count": 31,
   "id": "68103529-b586-4ea7-ab3b-50f30f91ba0f",
   "metadata": {},
   "outputs": [
    {
     "data": {
      "text/plain": [
       "2"
      ]
     },
     "execution_count": 31,
     "metadata": {},
     "output_type": "execute_result"
    }
   ],
   "source": []
  },
  {
   "cell_type": "code",
   "execution_count": 75,
   "id": "72b8f11d-18f0-4f2e-9438-75aff4b78bc1",
   "metadata": {
    "tags": []
   },
   "outputs": [
    {
     "name": "stdout",
     "output_type": "stream",
     "text": [
      "001 110 0 0000000000011011 27 .. 00111000000000000110111101000101001010010001001000000000\n",
      "110100010100101001000100100\n",
      "27  0 27 15 110100010100101001000100100\n",
      "12 110100010100101 15 27 15 001000100100\n",
      "001 110 0 0000000000011011 ['', '110100010100101']\n",
      "00111000000000000110111101000101001010010001001000000000\n"
     ]
    }
   ],
   "source": [
    "def day(te):\n",
    "    i = 0\n",
    "    bits = hextobits(te)\n",
    "    while i < len(te):\n",
    "        version = bits[i:(i+3)]\n",
    "        typeid = bits[(i+3):(i+6)]\n",
    "        lentype = bits[(i+6)]\n",
    "        i += 6\n",
    "        if lentype == 0:\n",
    "            bitLlen = 11\n",
    "        else:\n",
    "            bitLlen = 15\n",
    "        bitL = bits[i:(i+bitLlen+1)]\n",
    "        i += bitLlen + 1\n",
    "        subpacklen = int(bitL, 2)\n",
    "        \n",
    "        print(version, typeid, lentype, bitL, int(bitL, 2), \"..\", bits)\n",
    "        packbits = bits[i:(i+subpacklen)]\n",
    "        print(packbits)\n",
    "        j = subpacklen\n",
    "        subp = []\n",
    "        while j > 0:\n",
    "            subpack = packbits[(subpacklen-j-bitLlen):(subpacklen-j)]\n",
    "            #subpacklen -= bitLlen\n",
    "            print(j, subpack, len(subpack), subpacklen, bitLlen, packbits[(subpacklen-j):])\n",
    "            subp.append(subpack)\n",
    "            j -= bitLlen\n",
    "        print(version, typeid, lentype, bitL, subp)\n",
    "        print(bits)\n",
    "        i += subpacklen\n",
    "        break\n",
    "        \n",
    "        \n",
    "    #d = '{:04b}'.format(int(c,16))\n",
    "    return 1\n",
    "\n",
    "if samp:\n",
    "    day(t[1])\n",
    "    '''\n",
    "    for i in t:\n",
    "        day(i)\n",
    "        break\n",
    "    '''\n",
    "else:\n",
    "    day(t)"
   ]
  },
  {
   "cell_type": "markdown",
   "id": "99b4800a-d2b1-4fb8-a6fb-af8b8d5f80cb",
   "metadata": {},
   "source": [
    "## Part two"
   ]
  },
  {
   "cell_type": "code",
   "execution_count": null,
   "id": "574b9b37-6aa3-4fe9-b6f2-9da55c177ab7",
   "metadata": {},
   "outputs": [],
   "source": []
  },
  {
   "cell_type": "code",
   "execution_count": 8,
   "id": "aa19182a-5969-4229-9b5c-8630a4e51d53",
   "metadata": {
    "tags": []
   },
   "outputs": [],
   "source": [
    "def day2(te):\n",
    "    \n",
    "    return 2\n",
    "\n",
    "if samp:\n",
    "    for i in t:\n",
    "        day2(i)\n",
    "else:\n",
    "    day2(t)"
   ]
  },
  {
   "cell_type": "markdown",
   "id": "52366ae7-ceec-409e-b637-0e61036c962f",
   "metadata": {},
   "source": [
    "## Run the programs"
   ]
  },
  {
   "cell_type": "code",
   "execution_count": 9,
   "id": "e7c79c46-6c97-4a27-92c3-cf2c5a54a320",
   "metadata": {},
   "outputs": [
    {
     "ename": "KeyError",
     "evalue": "'D2FE28'",
     "output_type": "error",
     "traceback": [
      "\u001b[0;31m---------------------------------------------------------------------------\u001b[0m",
      "\u001b[0;31mKeyError\u001b[0m                                  Traceback (most recent call last)",
      "\u001b[0;32m/tmp/ipykernel_378925/3314532069.py\u001b[0m in \u001b[0;36m<module>\u001b[0;34m\u001b[0m\n\u001b[1;32m      2\u001b[0m     \u001b[0mtime0\u001b[0m \u001b[0;34m=\u001b[0m \u001b[0mtime\u001b[0m\u001b[0;34m.\u001b[0m\u001b[0mtime\u001b[0m\u001b[0;34m(\u001b[0m\u001b[0;34m)\u001b[0m\u001b[0;34m\u001b[0m\u001b[0;34m\u001b[0m\u001b[0m\n\u001b[1;32m      3\u001b[0m     \u001b[0;32mif\u001b[0m \u001b[0mpart\u001b[0m \u001b[0;34m==\u001b[0m \u001b[0;36m1\u001b[0m\u001b[0;34m:\u001b[0m\u001b[0;34m\u001b[0m\u001b[0;34m\u001b[0m\u001b[0m\n\u001b[0;32m----> 4\u001b[0;31m         \u001b[0mprint\u001b[0m\u001b[0;34m(\u001b[0m\u001b[0;34m\"Part 1: \"\u001b[0m\u001b[0;34m,\u001b[0m \u001b[0mday\u001b[0m\u001b[0;34m(\u001b[0m\u001b[0mt\u001b[0m\u001b[0;34m)\u001b[0m\u001b[0;34m)\u001b[0m\u001b[0;34m\u001b[0m\u001b[0;34m\u001b[0m\u001b[0m\n\u001b[0m\u001b[1;32m      5\u001b[0m     \u001b[0;32melif\u001b[0m \u001b[0mpart\u001b[0m \u001b[0;34m==\u001b[0m \u001b[0;36m2\u001b[0m\u001b[0;34m:\u001b[0m\u001b[0;34m\u001b[0m\u001b[0;34m\u001b[0m\u001b[0m\n\u001b[1;32m      6\u001b[0m         \u001b[0mprint\u001b[0m\u001b[0;34m(\u001b[0m\u001b[0;34m\"Part 2: \"\u001b[0m\u001b[0;34m,\u001b[0m \u001b[0mday2\u001b[0m\u001b[0;34m(\u001b[0m\u001b[0mt\u001b[0m\u001b[0;34m)\u001b[0m\u001b[0;34m)\u001b[0m\u001b[0;34m\u001b[0m\u001b[0;34m\u001b[0m\u001b[0m\n",
      "\u001b[0;32m/tmp/ipykernel_378925/3289963288.py\u001b[0m in \u001b[0;36mday\u001b[0;34m(te)\u001b[0m\n\u001b[1;32m      1\u001b[0m \u001b[0;32mdef\u001b[0m \u001b[0mday\u001b[0m\u001b[0;34m(\u001b[0m\u001b[0mte\u001b[0m\u001b[0;34m)\u001b[0m\u001b[0;34m:\u001b[0m\u001b[0;34m\u001b[0m\u001b[0;34m\u001b[0m\u001b[0m\n\u001b[1;32m      2\u001b[0m     \u001b[0mi\u001b[0m \u001b[0;34m=\u001b[0m \u001b[0;36m0\u001b[0m\u001b[0;34m\u001b[0m\u001b[0;34m\u001b[0m\u001b[0m\n\u001b[0;32m----> 3\u001b[0;31m     \u001b[0mbits\u001b[0m \u001b[0;34m=\u001b[0m \u001b[0mhextobits\u001b[0m\u001b[0;34m(\u001b[0m\u001b[0mte\u001b[0m\u001b[0;34m)\u001b[0m\u001b[0;34m\u001b[0m\u001b[0;34m\u001b[0m\u001b[0m\n\u001b[0m\u001b[1;32m      4\u001b[0m     \u001b[0;32mwhile\u001b[0m \u001b[0mi\u001b[0m \u001b[0;34m<\u001b[0m \u001b[0mlen\u001b[0m\u001b[0;34m(\u001b[0m\u001b[0mte\u001b[0m\u001b[0;34m)\u001b[0m\u001b[0;34m:\u001b[0m\u001b[0;34m\u001b[0m\u001b[0;34m\u001b[0m\u001b[0m\n\u001b[1;32m      5\u001b[0m         \u001b[0mversion\u001b[0m \u001b[0;34m=\u001b[0m \u001b[0mbits\u001b[0m\u001b[0;34m[\u001b[0m\u001b[0mi\u001b[0m\u001b[0;34m:\u001b[0m\u001b[0;34m(\u001b[0m\u001b[0mi\u001b[0m\u001b[0;34m+\u001b[0m\u001b[0;36m3\u001b[0m\u001b[0;34m)\u001b[0m\u001b[0;34m]\u001b[0m\u001b[0;34m\u001b[0m\u001b[0;34m\u001b[0m\u001b[0m\n",
      "\u001b[0;32m/tmp/ipykernel_378925/3443730278.py\u001b[0m in \u001b[0;36mhextobits\u001b[0;34m(h)\u001b[0m\n\u001b[1;32m      2\u001b[0m     \u001b[0mb\u001b[0m \u001b[0;34m=\u001b[0m \u001b[0;34m\"\"\u001b[0m\u001b[0;34m\u001b[0m\u001b[0;34m\u001b[0m\u001b[0m\n\u001b[1;32m      3\u001b[0m     \u001b[0;32mfor\u001b[0m \u001b[0mi\u001b[0m \u001b[0;32min\u001b[0m \u001b[0mh\u001b[0m\u001b[0;34m:\u001b[0m\u001b[0;34m\u001b[0m\u001b[0;34m\u001b[0m\u001b[0m\n\u001b[0;32m----> 4\u001b[0;31m         \u001b[0mb\u001b[0m \u001b[0;34m+=\u001b[0m \u001b[0mhextable\u001b[0m\u001b[0;34m[\u001b[0m\u001b[0mi\u001b[0m\u001b[0;34m]\u001b[0m\u001b[0;34m\u001b[0m\u001b[0;34m\u001b[0m\u001b[0m\n\u001b[0m\u001b[1;32m      5\u001b[0m     \u001b[0;31m#print(h, b)\u001b[0m\u001b[0;34m\u001b[0m\u001b[0;34m\u001b[0m\u001b[0;34m\u001b[0m\u001b[0m\n\u001b[1;32m      6\u001b[0m     \u001b[0;32mreturn\u001b[0m \u001b[0mb\u001b[0m\u001b[0;34m\u001b[0m\u001b[0;34m\u001b[0m\u001b[0m\n",
      "\u001b[0;31mKeyError\u001b[0m: 'D2FE28'"
     ]
    }
   ],
   "source": [
    "if 1:\n",
    "    time0 = time.time()\n",
    "    if part == 1:\n",
    "        print(\"Part 1: \", day(t))\n",
    "    elif part == 2:\n",
    "        print(\"Part 2: \", day2(t))\n",
    "    elif part == 3:\n",
    "        #run both\n",
    "        print(\"Part 1: \", day(t))\n",
    "        print(\"Part 2: \", day2(t))\n",
    "    tdif = time.time() - time0\n",
    "    print(\"Elapsed time: {:.4f} s\".format(tdif))"
   ]
  }
 ],
 "metadata": {
  "kernelspec": {
   "display_name": "Python 3 (ipykernel)",
   "language": "python",
   "name": "python3"
  },
  "language_info": {
   "codemirror_mode": {
    "name": "ipython",
    "version": 3
   },
   "file_extension": ".py",
   "mimetype": "text/x-python",
   "name": "python",
   "nbconvert_exporter": "python",
   "pygments_lexer": "ipython3",
   "version": "3.9.2"
  }
 },
 "nbformat": 4,
 "nbformat_minor": 5
}
