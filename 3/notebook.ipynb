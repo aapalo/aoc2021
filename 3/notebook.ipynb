{
 "cells": [
  {
   "cell_type": "code",
   "execution_count": 125,
   "id": "0959b566-c31a-4cf9-aa16-da1d71f21a52",
   "metadata": {},
   "outputs": [],
   "source": [
    "#!/usr/bin/python3"
   ]
  },
  {
   "cell_type": "code",
   "execution_count": 126,
   "id": "cb88d538-8fc9-46c7-8140-4675c3a6ceb1",
   "metadata": {},
   "outputs": [],
   "source": [
    "#from collections import Counter\n",
    "#import re\n",
    "#import os\n",
    "#import time\n",
    "from collections import defaultdict\n",
    "#from collections import deque"
   ]
  },
  {
   "cell_type": "code",
   "execution_count": 127,
   "id": "f55b7992-aa00-49bd-8321-64bbd778e15e",
   "metadata": {},
   "outputs": [],
   "source": [
    "date = 3\n",
    "dev = 0 # extra prints\n",
    "part = 3 # 1,2, or 3 for both\n",
    "# 0 or 1:\n",
    "samp = 0"
   ]
  },
  {
   "cell_type": "markdown",
   "id": "88404eb8-4034-4bdd-9dae-86e31d39efba",
   "metadata": {
    "tags": []
   },
   "source": [
    "## Read the input data "
   ]
  },
  {
   "cell_type": "code",
   "execution_count": 128,
   "id": "95c6dda8-9ebf-4edc-bfc1-078ba6b51e32",
   "metadata": {},
   "outputs": [],
   "source": [
    "#time0 = time.time()\n",
    "\n",
    "if samp == 1:\n",
    "    filename = \"/sample.txt\"\n",
    "else:\n",
    "    filename = \"/input.txt\"\n",
    "try:\n",
    "    with open(str(date) + filename,\"r\") as f:\n",
    "        t = f.readlines()\n",
    "except FileNotFoundError:\n",
    "    with open(\".\" + filename,\"r\") as f:\n",
    "        t = f.readlines()\n",
    "\n",
    "t = [(x.strip().replace('  ',' ')) for x in t]\n",
    "#t = [int(x) for x in t]"
   ]
  },
  {
   "cell_type": "code",
   "execution_count": 129,
   "id": "68d62a33-8fb5-4270-aec0-255413010b57",
   "metadata": {},
   "outputs": [],
   "source": [
    "## Run the program\n",
    "if 0:\n",
    "    if part == 1:\n",
    "        print(\"Part 1: \", day(t))\n",
    "    elif part == 2:\n",
    "        print(\"Part 2: \", day2(t))\n",
    "    elif part == 3:\n",
    "        pass\n",
    "        #run both\n",
    "        #print(\"Part 1: \", day(t))\n",
    "        #print(\"Part 2: \", day2(t))\n",
    "\n",
    "#tdif = time.time() - time0\n",
    "#print(\"Elapsed time: {:.4f} s\".format(tdif))"
   ]
  },
  {
   "cell_type": "markdown",
   "id": "e4a219ce-1941-48f2-9b11-4717581c82c9",
   "metadata": {},
   "source": [
    "## Part one"
   ]
  },
  {
   "cell_type": "code",
   "execution_count": null,
   "id": "5ae65db8-f67a-41e8-bf4e-228c0eae27e6",
   "metadata": {},
   "outputs": [],
   "source": []
  },
  {
   "cell_type": "code",
   "execution_count": 130,
   "id": "72b8f11d-18f0-4f2e-9438-75aff4b78bc1",
   "metadata": {
    "tags": []
   },
   "outputs": [
    {
     "data": {
      "text/plain": [
       "3549854"
      ]
     },
     "execution_count": 130,
     "metadata": {},
     "output_type": "execute_result"
    }
   ],
   "source": [
    "def day(te):\n",
    "    bitlen = len(te[0])\n",
    "    bits = [0] * bitlen\n",
    "    bitavg = len(te) / 2\n",
    "    for i in te:\n",
    "        for j in range(bitlen):\n",
    "            bits[j] += int(i[j])\n",
    "        #print(bits)\n",
    "    #print(bits)\n",
    "    epsilon = \"\"\n",
    "    gamma = \"\"\n",
    "    for j in range(bitlen):\n",
    "        if bits[j] >= bitavg:\n",
    "            gamma += \"1\"\n",
    "            epsilon += \"0\"\n",
    "        else:\n",
    "            gamma += \"0\"\n",
    "            epsilon += \"1\"\n",
    "        #print(gamma)\n",
    "    #print(gamma, epsilon)\n",
    "    dg = 0\n",
    "    de = 0\n",
    "    for j in range(bitlen):\n",
    "        dg += 2**(bitlen-j-1) * int(gamma[j])\n",
    "        de += 2**(bitlen-j-1) * int(epsilon[j])\n",
    "        #print(gamma[j], dg, \"----\", epsilon[j], de)\n",
    "    return dg * de\n",
    "day(t)"
   ]
  },
  {
   "cell_type": "markdown",
   "id": "99b4800a-d2b1-4fb8-a6fb-af8b8d5f80cb",
   "metadata": {},
   "source": [
    "## Part two"
   ]
  },
  {
   "cell_type": "code",
   "execution_count": 131,
   "id": "574b9b37-6aa3-4fe9-b6f2-9da55c177ab7",
   "metadata": {},
   "outputs": [],
   "source": [
    "# bits: list of bits\n",
    "# idx: which index to check\n",
    "# see if 1 or 0 more common for idx, return a shorter list\n",
    "def rating(bits, idx, isOxy):\n",
    "    newbits = [] #list of items to remove\n",
    "    s = 0\n",
    "    for j in range(len(bits)):\n",
    "        s += int(bits[j][idx])\n",
    "        #print(s)\n",
    "    if isOxy:\n",
    "        bitcrit = 1 if s >= len(bits)/2.0 else 0\n",
    "    else:\n",
    "        bitcrit = 0 if s >= len(bits)/2.0 else 1\n",
    "    for j in range(len(bits)):\n",
    "        if int(bits[j][idx]) == bitcrit:\n",
    "            newbits.append(bits[j])\n",
    "    if len(newbits) > 0:\n",
    "        bits = newbits[:]\n",
    "    return bits\n"
   ]
  },
  {
   "cell_type": "code",
   "execution_count": 132,
   "id": "89aeb2c5-2c50-466f-a7e4-03adbd00e65f",
   "metadata": {},
   "outputs": [],
   "source": [
    "def oxybits(bits):\n",
    "    i = 0\n",
    "    while len(bits) > 0:\n",
    "        #print(bits)\n",
    "        if len(bits) == 1:\n",
    "            break\n",
    "        bits = rating(bits, i, 1)\n",
    "        i += 1\n",
    "    oxy = 0\n",
    "    bitlen = len(bits[0])\n",
    "    for j in range(bitlen):\n",
    "        oxy += 2**(bitlen-j-1) * int(bits[0][j])\n",
    "    return oxy"
   ]
  },
  {
   "cell_type": "code",
   "execution_count": 133,
   "id": "42d2a0f0-8d37-4e6f-ad34-7cc876f26da3",
   "metadata": {},
   "outputs": [],
   "source": [
    "def scrubber(bits):\n",
    "    i = 0\n",
    "    while len(bits) > 0:\n",
    "        if len(bits) == 1:\n",
    "            break\n",
    "        bits = rating(bits, i, 0)\n",
    "        i += 1\n",
    "    scrub = 0\n",
    "    bitlen = len(bits[0])\n",
    "    for j in range(bitlen):\n",
    "        scrub += 2**(bitlen-j-1) * int(bits[0][j])\n",
    "    return scrub"
   ]
  },
  {
   "cell_type": "code",
   "execution_count": 134,
   "id": "aa19182a-5969-4229-9b5c-8630a4e51d53",
   "metadata": {
    "tags": []
   },
   "outputs": [
    {
     "data": {
      "text/plain": [
       "3765399"
      ]
     },
     "execution_count": 134,
     "metadata": {},
     "output_type": "execute_result"
    }
   ],
   "source": [
    "def day2(te):\n",
    "    bits = te[:]\n",
    "    o2 = oxybits(bits)\n",
    "    co2 = scrubber(bits)\n",
    "    #print(o2, co2)\n",
    "    return o2 * co2\n",
    "day2(t)"
   ]
  }
 ],
 "metadata": {
  "kernelspec": {
   "display_name": "Python 3 (ipykernel)",
   "language": "python",
   "name": "python3"
  },
  "language_info": {
   "codemirror_mode": {
    "name": "ipython",
    "version": 3
   },
   "file_extension": ".py",
   "mimetype": "text/x-python",
   "name": "python",
   "nbconvert_exporter": "python",
   "pygments_lexer": "ipython3",
   "version": "3.9.2"
  }
 },
 "nbformat": 4,
 "nbformat_minor": 5
}
