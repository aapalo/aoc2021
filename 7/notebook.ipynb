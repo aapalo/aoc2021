{
 "cells": [
  {
   "cell_type": "code",
   "execution_count": 1,
   "id": "0959b566-c31a-4cf9-aa16-da1d71f21a52",
   "metadata": {},
   "outputs": [],
   "source": [
    "#!/usr/bin/python3"
   ]
  },
  {
   "cell_type": "code",
   "execution_count": 2,
   "id": "cb88d538-8fc9-46c7-8140-4675c3a6ceb1",
   "metadata": {},
   "outputs": [],
   "source": [
    "#from collections import Counter\n",
    "#import re\n",
    "#import os\n",
    "import time\n",
    "#from collections import defaultdict\n",
    "#from collections import deque"
   ]
  },
  {
   "cell_type": "code",
   "execution_count": 3,
   "id": "f55b7992-aa00-49bd-8321-64bbd778e15e",
   "metadata": {},
   "outputs": [],
   "source": [
    "date = 7\n",
    "dev = 0 # extra prints\n",
    "part = 3 # 1,2, or 3 for both\n",
    "# 0 or 1:\n",
    "samp = 0"
   ]
  },
  {
   "cell_type": "markdown",
   "id": "88404eb8-4034-4bdd-9dae-86e31d39efba",
   "metadata": {
    "tags": []
   },
   "source": [
    "## Read the input data "
   ]
  },
  {
   "cell_type": "code",
   "execution_count": 4,
   "id": "95c6dda8-9ebf-4edc-bfc1-078ba6b51e32",
   "metadata": {},
   "outputs": [],
   "source": [
    "if samp == 1:\n",
    "    filename = \"/sample.txt\"\n",
    "else:\n",
    "    filename = \"/input.txt\"\n",
    "try:\n",
    "    with open(str(date) + filename,\"r\") as f:\n",
    "        t = f.readlines()\n",
    "except FileNotFoundError:\n",
    "    with open(\".\" + filename,\"r\") as f:\n",
    "        t = f.readlines()\n",
    "\n",
    "t = [(x.strip().replace('  ',' ')) for x in t]\n",
    "t = t[0].split(\",\")\n",
    "t = [int(x) for x in t]\n",
    "#print(t)"
   ]
  },
  {
   "cell_type": "markdown",
   "id": "e4a219ce-1941-48f2-9b11-4717581c82c9",
   "metadata": {},
   "source": [
    "## Part one"
   ]
  },
  {
   "cell_type": "code",
   "execution_count": 5,
   "id": "5ae65db8-f67a-41e8-bf4e-228c0eae27e6",
   "metadata": {},
   "outputs": [],
   "source": [
    "def countfuel(crabs, target):\n",
    "    fuel = 0\n",
    "    for c in crabs:\n",
    "        fuel += abs(c - target)\n",
    "    return fuel"
   ]
  },
  {
   "cell_type": "code",
   "execution_count": 6,
   "id": "72b8f11d-18f0-4f2e-9438-75aff4b78bc1",
   "metadata": {
    "tags": []
   },
   "outputs": [],
   "source": [
    "def day(te):\n",
    "    minfuel = countfuel(te, 0)\n",
    "    for j in range(max(te)):\n",
    "        fuel = countfuel(te, j)\n",
    "        #print(j, fuel, minfuel)\n",
    "        minfuel = min(countfuel(te, j), minfuel)\n",
    "    return minfuel\n",
    "#day(t)"
   ]
  },
  {
   "cell_type": "markdown",
   "id": "99b4800a-d2b1-4fb8-a6fb-af8b8d5f80cb",
   "metadata": {},
   "source": [
    "## Part two"
   ]
  },
  {
   "cell_type": "code",
   "execution_count": 7,
   "id": "7e8cf5a5-a73d-468f-b629-171f39eaa275",
   "metadata": {},
   "outputs": [],
   "source": [
    "def fuelsum(steps):\n",
    "    fs = 0\n",
    "    s = 1\n",
    "    while s <= steps:\n",
    "        fs += s\n",
    "        s += 1\n",
    "    return fs"
   ]
  },
  {
   "cell_type": "code",
   "execution_count": 8,
   "id": "574b9b37-6aa3-4fe9-b6f2-9da55c177ab7",
   "metadata": {},
   "outputs": [],
   "source": [
    "def countfuel_p2(crabs, target):\n",
    "    fuel = 0\n",
    "    for c in crabs:\n",
    "        fuel += fuelsum(abs(c - target))\n",
    "    return fuel"
   ]
  },
  {
   "cell_type": "code",
   "execution_count": 9,
   "id": "aa19182a-5969-4229-9b5c-8630a4e51d53",
   "metadata": {
    "tags": []
   },
   "outputs": [],
   "source": [
    "def day2(te):\n",
    "    minfuel = countfuel_p2(te, 0)\n",
    "    oldmin = minfuel\n",
    "    mincounter = 0\n",
    "    for j in range(max(te)):\n",
    "        fuel = countfuel_p2(te, j)\n",
    "\n",
    "        minfuel = min(fuel, minfuel)\n",
    "        \n",
    "        if oldmin == minfuel:\n",
    "            if (0):\n",
    "                print(j, fuel, minfuel, mincounter)\n",
    "            mincounter += 1\n",
    "        else:\n",
    "            oldmin = minfuel\n",
    "            mincounter = 0\n",
    "        # break when the minimum doesn't change in a while\n",
    "        if mincounter > 10:\n",
    "            break\n",
    "        # print stuff for debugging\n",
    "        if (0) and (samp == 0):\n",
    "            if (j > 490) and (j % 10 == 0):\n",
    "                print(j, fuel, minfuel, mincounter)\n",
    "            elif (j % 100 == 0):\n",
    "                print(j, fuel, minfuel, mincounter)\n",
    "    return minfuel\n",
    "#day2(t)"
   ]
  },
  {
   "cell_type": "markdown",
   "id": "de51fac9-5664-4162-b557-987c566a78b5",
   "metadata": {},
   "source": [
    "## Run the programs"
   ]
  },
  {
   "cell_type": "code",
   "execution_count": 10,
   "id": "68d62a33-8fb5-4270-aec0-255413010b57",
   "metadata": {},
   "outputs": [
    {
     "name": "stdout",
     "output_type": "stream",
     "text": [
      "Part 1:  355150\n",
      "Part 2:  98368490\n",
      "Elapsed time: 14.3747 s\n"
     ]
    }
   ],
   "source": [
    "if 1:\n",
    "    time0 = time.time()\n",
    "    if part == 1:\n",
    "        print(\"Part 1: \", day(t))\n",
    "    elif part == 2:\n",
    "        print(\"Part 2: \", day2(t))\n",
    "    elif part == 3:\n",
    "        #run both\n",
    "        print(\"Part 1: \", day(t))\n",
    "        print(\"Part 2: \", day2(t))\n",
    "    tdif = time.time() - time0\n",
    "    print(\"Elapsed time: {:.4f} s\".format(tdif))"
   ]
  }
 ],
 "metadata": {
  "kernelspec": {
   "display_name": "Python 3 (ipykernel)",
   "language": "python",
   "name": "python3"
  },
  "language_info": {
   "codemirror_mode": {
    "name": "ipython",
    "version": 3
   },
   "file_extension": ".py",
   "mimetype": "text/x-python",
   "name": "python",
   "nbconvert_exporter": "python",
   "pygments_lexer": "ipython3",
   "version": "3.9.2"
  }
 },
 "nbformat": 4,
 "nbformat_minor": 5
}
