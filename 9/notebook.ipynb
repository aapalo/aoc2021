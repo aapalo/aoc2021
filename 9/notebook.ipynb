{
 "cells": [
  {
   "cell_type": "code",
   "execution_count": 1,
   "id": "0959b566-c31a-4cf9-aa16-da1d71f21a52",
   "metadata": {},
   "outputs": [],
   "source": [
    "#!/usr/bin/python3"
   ]
  },
  {
   "cell_type": "code",
   "execution_count": 2,
   "id": "cb88d538-8fc9-46c7-8140-4675c3a6ceb1",
   "metadata": {},
   "outputs": [],
   "source": [
    "from collections import Counter\n",
    "#import re\n",
    "#import os\n",
    "#import time\n",
    "from collections import defaultdict\n",
    "#from collections import deque"
   ]
  },
  {
   "cell_type": "code",
   "execution_count": 3,
   "id": "f55b7992-aa00-49bd-8321-64bbd778e15e",
   "metadata": {},
   "outputs": [],
   "source": [
    "date = 9\n",
    "dev = 0 # extra prints\n",
    "part = 3 # 1,2, or 3 for both\n",
    "# 0 or 1:\n",
    "samp = 0"
   ]
  },
  {
   "cell_type": "markdown",
   "id": "88404eb8-4034-4bdd-9dae-86e31d39efba",
   "metadata": {
    "tags": []
   },
   "source": [
    "## Read the input data "
   ]
  },
  {
   "cell_type": "code",
   "execution_count": 4,
   "id": "95c6dda8-9ebf-4edc-bfc1-078ba6b51e32",
   "metadata": {},
   "outputs": [],
   "source": [
    "#time0 = time.time()\n",
    "\n",
    "if samp == 1:\n",
    "    filename = \"/sample.txt\"\n",
    "else:\n",
    "    filename = \"/input.txt\"\n",
    "try:\n",
    "    with open(str(date) + filename,\"r\") as f:\n",
    "        t = f.readlines()\n",
    "except FileNotFoundError:\n",
    "    with open(\".\" + filename,\"r\") as f:\n",
    "        t = f.readlines()\n",
    "\n",
    "t = [(x.strip().replace('  ',' ')) for x in t]\n",
    "#t = [int(x) for x in t]"
   ]
  },
  {
   "cell_type": "code",
   "execution_count": 5,
   "id": "68d62a33-8fb5-4270-aec0-255413010b57",
   "metadata": {},
   "outputs": [],
   "source": [
    "## Run the program\n",
    "if 0:\n",
    "    if part == 1:\n",
    "        print(\"Part 1: \", day(t))\n",
    "    elif part == 2:\n",
    "        print(\"Part 2: \", day2(t))\n",
    "    elif part == 3:\n",
    "        pass\n",
    "        #run both\n",
    "        #print(\"Part 1: \", day(t))\n",
    "        #print(\"Part 2: \", day2(t))\n",
    "\n",
    "#tdif = time.time() - time0\n",
    "#print(\"Elapsed time: {:.4f} s\".format(tdif))"
   ]
  },
  {
   "cell_type": "markdown",
   "id": "e4a219ce-1941-48f2-9b11-4717581c82c9",
   "metadata": {},
   "source": [
    "## Part one"
   ]
  },
  {
   "cell_type": "code",
   "execution_count": 6,
   "id": "5ae65db8-f67a-41e8-bf4e-228c0eae27e6",
   "metadata": {},
   "outputs": [],
   "source": [
    "# return a set of neighbor coordinates:\n",
    "# (3,3) -> [(3,4), (3,2), (2,3), (4,3)]\n",
    "def giveneighbors(cx,cy):\n",
    "    nb = set()\n",
    "    for (i,j) in [(-1,0), (1,0), (0,1), (0,-1)]:\n",
    "        if (cx+i >= width) or (cy+j >= height):\n",
    "            continue\n",
    "        elif (cx+i < 0) or (cy+j < 0):\n",
    "            continue\n",
    "        else:\n",
    "            nb.add((cx+i, cy+j))\n",
    "    return nb"
   ]
  },
  {
   "cell_type": "code",
   "execution_count": 7,
   "id": "72b8f11d-18f0-4f2e-9438-75aff4b78bc1",
   "metadata": {
    "tags": []
   },
   "outputs": [
    {
     "data": {
      "text/plain": [
       "494"
      ]
     },
     "execution_count": 7,
     "metadata": {},
     "output_type": "execute_result"
    }
   ],
   "source": [
    "width = len(t[0])\n",
    "height = len(t)\n",
    "def day(te):\n",
    "    hm = {}\n",
    "    width = len(te[0])\n",
    "    height = len(te)\n",
    "    for r in range(height):\n",
    "        hm[r] = []\n",
    "        for c in range(width):\n",
    "            hm[r].append(int(te[r][c]))\n",
    "    risk = 0\n",
    "    lows = []\n",
    "    for r in range(height):\n",
    "        for c in range(width):\n",
    "            val = int(te[r][c])\n",
    "            ismin = 1\n",
    "            n = giveneighbors(c, r)\n",
    "            #print(n)\n",
    "            for [x,y] in n:\n",
    "                if int(te[y][x]) <= val:\n",
    "                    ismin = 0\n",
    "            if ismin:\n",
    "                risk += (1 + val)\n",
    "                lows.append((c,r))\n",
    "                #print(\"Risky: {},{}: {}. N: {}\".format(c,r, val, n))\n",
    "    if(0):\n",
    "        for k in hm.keys():\n",
    "            print(hm[k])\n",
    "    #print(lows)\n",
    "    return risk\n",
    "day(t)"
   ]
  },
  {
   "cell_type": "markdown",
   "id": "99b4800a-d2b1-4fb8-a6fb-af8b8d5f80cb",
   "metadata": {},
   "source": [
    "## Part two"
   ]
  },
  {
   "cell_type": "code",
   "execution_count": 8,
   "id": "574b9b37-6aa3-4fe9-b6f2-9da55c177ab7",
   "metadata": {},
   "outputs": [],
   "source": [
    "def step(checked, data, x, y):\n",
    "    checked.add((x,y))\n",
    "    #print(checked)\n",
    "    tocheck = [(x,y)]\n",
    "    size = 0\n",
    "    while len(tocheck) > 0:\n",
    "        #print(tocheck)\n",
    "        size += 1\n",
    "        (x,y) = tocheck.pop()\n",
    "        for (x,y) in giveneighbors(x,y):\n",
    "            if (data[y][x] != 9) and ((x,y) not in checked):\n",
    "                checked.add((x,y))\n",
    "                tocheck.append((x,y))\n",
    "            #print(\"size {}, xy {},{}, val {}\".format(size, x,y, data[y][x]))\n",
    "    return size"
   ]
  },
  {
   "cell_type": "code",
   "execution_count": 9,
   "id": "aa19182a-5969-4229-9b5c-8630a4e51d53",
   "metadata": {
    "tags": []
   },
   "outputs": [
    {
     "name": "stdout",
     "output_type": "stream",
     "text": [
      "96 103 106\n"
     ]
    },
    {
     "data": {
      "text/plain": [
       "1048128"
      ]
     },
     "execution_count": 9,
     "metadata": {},
     "output_type": "execute_result"
    }
   ],
   "source": [
    "def day2(te):\n",
    "    hm = {}#defaultdict(lambda:9)    \n",
    "    for r in range(height):\n",
    "        hm[r] = []\n",
    "        for c in range(width):\n",
    "            hm[r].append(int(te[r][c]))\n",
    "    lows = []\n",
    "    for r in range(height):\n",
    "        for c in range(width):\n",
    "            val = int(te[r][c])\n",
    "            ismin = 1\n",
    "            n = giveneighbors(c, r)\n",
    "            #print(n)\n",
    "            for [x,y] in n:\n",
    "                if int(te[y][x]) <= val:\n",
    "                    ismin = 0\n",
    "            if ismin:\n",
    "                lows.append((c,r))\n",
    "                #print(\"Risky: {},{}: {}. N: {}\".format(c,r, val, n))\n",
    "    #print(\"Lows: \", lows)\n",
    "    basins = defaultdict(list)\n",
    "    bid = 0\n",
    "    checked = set()\n",
    "    for [x,y] in lows:\n",
    "        basins[bid] = step(checked, hm, x, y)\n",
    "        bid += 1\n",
    "    #print(checked)\n",
    "    if(0):\n",
    "        for k in hm.keys():\n",
    "            print(hm[k])\n",
    "    bc = (basins.values())\n",
    "    (a,b,c) = (sorted(bc)[-3:])\n",
    "    print(a,b,c)\n",
    "    if(0):\n",
    "        print(\"Basins:\")\n",
    "        for k in basins.keys():\n",
    "            print(k, basins[k])\n",
    "    return a*b*c\n",
    "day2(t)"
   ]
  }
 ],
 "metadata": {
  "kernelspec": {
   "display_name": "Python 3 (ipykernel)",
   "language": "python",
   "name": "python3"
  },
  "language_info": {
   "codemirror_mode": {
    "name": "ipython",
    "version": 3
   },
   "file_extension": ".py",
   "mimetype": "text/x-python",
   "name": "python",
   "nbconvert_exporter": "python",
   "pygments_lexer": "ipython3",
   "version": "3.9.2"
  }
 },
 "nbformat": 4,
 "nbformat_minor": 5
}
