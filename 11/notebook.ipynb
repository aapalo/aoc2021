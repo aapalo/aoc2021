{
 "cells": [
  {
   "cell_type": "code",
   "execution_count": 1,
   "id": "0959b566-c31a-4cf9-aa16-da1d71f21a52",
   "metadata": {},
   "outputs": [],
   "source": [
    "#!/usr/bin/python3"
   ]
  },
  {
   "cell_type": "code",
   "execution_count": 2,
   "id": "cb88d538-8fc9-46c7-8140-4675c3a6ceb1",
   "metadata": {},
   "outputs": [],
   "source": [
    "#from collections import Counter\n",
    "#import re\n",
    "#import os\n",
    "import time\n",
    "#from collections import defaultdict\n",
    "#from collections import deque"
   ]
  },
  {
   "cell_type": "code",
   "execution_count": 3,
   "id": "f55b7992-aa00-49bd-8321-64bbd778e15e",
   "metadata": {},
   "outputs": [
    {
     "name": "stdout",
     "output_type": "stream",
     "text": [
      "https://adventofcode.com/2021/day/11\n"
     ]
    }
   ],
   "source": [
    "date = 11\n",
    "dev = 0 # extra prints\n",
    "part = 3 # 1,2, or 3 for both\n",
    "# 0 or 1:\n",
    "samp = 0\n",
    "print(\"https://adventofcode.com/2021/day/{}\".format(date))"
   ]
  },
  {
   "cell_type": "markdown",
   "id": "88404eb8-4034-4bdd-9dae-86e31d39efba",
   "metadata": {
    "tags": []
   },
   "source": [
    "## Read the input data "
   ]
  },
  {
   "cell_type": "code",
   "execution_count": 4,
   "id": "95c6dda8-9ebf-4edc-bfc1-078ba6b51e32",
   "metadata": {},
   "outputs": [],
   "source": [
    "#time0 = time.time()\n",
    "\n",
    "if samp == 1:\n",
    "    filename = \"/sample.txt\"\n",
    "else:\n",
    "    filename = \"/input.txt\"\n",
    "try:\n",
    "    with open(str(date) + filename,\"r\") as f:\n",
    "        t = f.readlines()\n",
    "except FileNotFoundError:\n",
    "    with open(\".\" + filename,\"r\") as f:\n",
    "        t = f.readlines()\n",
    "\n",
    "t = [(x.strip().replace('  ',' ')) for x in t]\n",
    "#t = [int(x) for x in t]"
   ]
  },
  {
   "cell_type": "markdown",
   "id": "e4a219ce-1941-48f2-9b11-4717581c82c9",
   "metadata": {},
   "source": [
    "## Part one"
   ]
  },
  {
   "cell_type": "code",
   "execution_count": 5,
   "id": "5ae65db8-f67a-41e8-bf4e-228c0eae27e6",
   "metadata": {},
   "outputs": [],
   "source": [
    "def getneighbors(x,y):\n",
    "    nb = set()\n",
    "    for i in [-1,0,1]:\n",
    "        for j in [-1,0,1]:\n",
    "            if (i == 0) and (j == 0):\n",
    "                continue\n",
    "            elif (0 <= (x+i) < 10) and (0 <= (y+j) < 10):\n",
    "                nb.add((x+i,y+j))\n",
    "            else:\n",
    "                continue\n",
    "    return nb"
   ]
  },
  {
   "cell_type": "code",
   "execution_count": 6,
   "id": "72b8f11d-18f0-4f2e-9438-75aff4b78bc1",
   "metadata": {
    "tags": []
   },
   "outputs": [
    {
     "data": {
      "text/plain": [
       "1644"
      ]
     },
     "execution_count": 6,
     "metadata": {},
     "output_type": "execute_result"
    }
   ],
   "source": [
    "def day(te, part2):\n",
    "    octo = {}\n",
    "    flashes = 0\n",
    "    maxstep = 500 if part2 else 100\n",
    "    \n",
    "    for r in range(10):\n",
    "        octo[r] = []\n",
    "        for c in range(10):\n",
    "            octo[r].append(int(te[r][c]))\n",
    "    for step in range(maxstep):\n",
    "        if(0):\n",
    "            print(flashes)\n",
    "            for r in range(10):\n",
    "                print(octo[r])\n",
    "        toflash = set()\n",
    "        # increase all by 1\n",
    "        for r in range(10):\n",
    "            for c in range(10):\n",
    "                octo[r][c] += 1\n",
    "                if octo[r][c] > 9:\n",
    "                    toflash.add((r,c))\n",
    "        # flash\n",
    "        flashed = set()\n",
    "        while(1):\n",
    "            newflash = set()\n",
    "            while toflash:\n",
    "                #print(\"To flash: \", toflash)\n",
    "                #print(\"Flashed: \", flashed, flashes)\n",
    "                (r,c) = toflash.pop()\n",
    "                flashed.add((r,c))\n",
    "                flashes += 1\n",
    "                for (x,y) in getneighbors(c,r):\n",
    "                    octo[y][x] += 1\n",
    "                    if (octo[y][x] > 9) and ((y,x) not in flashed):\n",
    "                        toflash.add((y,x))\n",
    "            toflash.update(newflash)\n",
    "            if len(toflash) == 0:\n",
    "                break\n",
    "        #put flashed octos back to 0\n",
    "        zeroes = 0\n",
    "        for r in range(10):\n",
    "            for c in range(10):\n",
    "                if octo[r][c] > 9:\n",
    "                    octo[r][c] = 0\n",
    "                    zeroes += 1\n",
    "        if part2:\n",
    "            if zeroes == 100:\n",
    "                break\n",
    "    if(0):\n",
    "        print(\"Step {}: {} flashes\".format(step+1, flashes))\n",
    "        for r in range(10):\n",
    "            print(octo[r])\n",
    "    if part2 == 0:\n",
    "        return flashes\n",
    "    else:\n",
    "        return step + 1\n",
    "day(t, 0)"
   ]
  },
  {
   "cell_type": "markdown",
   "id": "99b4800a-d2b1-4fb8-a6fb-af8b8d5f80cb",
   "metadata": {},
   "source": [
    "## Part two"
   ]
  },
  {
   "cell_type": "code",
   "execution_count": 7,
   "id": "aa19182a-5969-4229-9b5c-8630a4e51d53",
   "metadata": {
    "tags": []
   },
   "outputs": [
    {
     "data": {
      "text/plain": [
       "229"
      ]
     },
     "execution_count": 7,
     "metadata": {},
     "output_type": "execute_result"
    }
   ],
   "source": [
    "def day2(te):\n",
    "    return day(te, 1)\n",
    "day2(t)"
   ]
  },
  {
   "cell_type": "markdown",
   "id": "52366ae7-ceec-409e-b637-0e61036c962f",
   "metadata": {},
   "source": [
    "## Run the programs"
   ]
  },
  {
   "cell_type": "code",
   "execution_count": 8,
   "id": "e7c79c46-6c97-4a27-92c3-cf2c5a54a320",
   "metadata": {},
   "outputs": [
    {
     "name": "stdout",
     "output_type": "stream",
     "text": [
      "Part 1:  1644\n",
      "Part 2:  229\n",
      "Elapsed time: 0.0690 s\n"
     ]
    }
   ],
   "source": [
    "if 1:\n",
    "    time0 = time.time()\n",
    "    if part == 1:\n",
    "        print(\"Part 1: \", day(t,0))\n",
    "    elif part == 2:\n",
    "        print(\"Part 2: \", day2(t))\n",
    "    elif part == 3:\n",
    "        #run both\n",
    "        print(\"Part 1: \", day(t,0))\n",
    "        print(\"Part 2: \", day2(t))\n",
    "    tdif = time.time() - time0\n",
    "    print(\"Elapsed time: {:.4f} s\".format(tdif))"
   ]
  }
 ],
 "metadata": {
  "kernelspec": {
   "display_name": "Python 3 (ipykernel)",
   "language": "python",
   "name": "python3"
  },
  "language_info": {
   "codemirror_mode": {
    "name": "ipython",
    "version": 3
   },
   "file_extension": ".py",
   "mimetype": "text/x-python",
   "name": "python",
   "nbconvert_exporter": "python",
   "pygments_lexer": "ipython3",
   "version": "3.9.2"
  }
 },
 "nbformat": 4,
 "nbformat_minor": 5
}
