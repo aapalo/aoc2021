{
 "cells": [
  {
   "cell_type": "code",
   "execution_count": 1,
   "id": "0959b566-c31a-4cf9-aa16-da1d71f21a52",
   "metadata": {},
   "outputs": [],
   "source": [
    "#!/usr/bin/python3"
   ]
  },
  {
   "cell_type": "code",
   "execution_count": 2,
   "id": "cb88d538-8fc9-46c7-8140-4675c3a6ceb1",
   "metadata": {},
   "outputs": [],
   "source": [
    "from collections import Counter\n",
    "#import re\n",
    "#import os\n",
    "import time\n",
    "#from collections import defaultdict\n",
    "#from collections import deque"
   ]
  },
  {
   "cell_type": "code",
   "execution_count": 3,
   "id": "f55b7992-aa00-49bd-8321-64bbd778e15e",
   "metadata": {},
   "outputs": [
    {
     "name": "stdout",
     "output_type": "stream",
     "text": [
      "https://adventofcode.com/2021/day/14\n"
     ]
    }
   ],
   "source": [
    "date = 14\n",
    "dev = 0 # extra prints\n",
    "part = 3 # 1,2, or 3 for both\n",
    "# 0 or 1:\n",
    "samp = 0\n",
    "print(\"https://adventofcode.com/2021/day/{}\".format(date))"
   ]
  },
  {
   "cell_type": "markdown",
   "id": "88404eb8-4034-4bdd-9dae-86e31d39efba",
   "metadata": {
    "tags": []
   },
   "source": [
    "## Read the input data "
   ]
  },
  {
   "cell_type": "code",
   "execution_count": 4,
   "id": "95c6dda8-9ebf-4edc-bfc1-078ba6b51e32",
   "metadata": {},
   "outputs": [],
   "source": [
    "#time0 = time.time()\n",
    "\n",
    "if samp == 1:\n",
    "    filename = \"/sample.txt\"\n",
    "else:\n",
    "    filename = \"/input.txt\"\n",
    "try:\n",
    "    with open(str(date) + filename,\"r\") as f:\n",
    "        t = f.readlines()\n",
    "except FileNotFoundError:\n",
    "    with open(\".\" + filename,\"r\") as f:\n",
    "        t = f.readlines()\n",
    "\n",
    "t = [(x.strip().replace('  ',' ')) for x in t]\n",
    "#t = [int(x) for x in t]"
   ]
  },
  {
   "cell_type": "markdown",
   "id": "e4a219ce-1941-48f2-9b11-4717581c82c9",
   "metadata": {},
   "source": [
    "## Part one"
   ]
  },
  {
   "cell_type": "code",
   "execution_count": 5,
   "id": "5ae65db8-f67a-41e8-bf4e-228c0eae27e6",
   "metadata": {},
   "outputs": [],
   "source": [
    "import re"
   ]
  },
  {
   "cell_type": "code",
   "execution_count": 6,
   "id": "53f577eb-40eb-4863-9e37-0142fce21b1f",
   "metadata": {},
   "outputs": [],
   "source": [
    "sample_ans = [\"NNCB\", \"NCNBCHB\", \"NBCCNBBBCBHCB\", \"NBBBCNCCNBBNBNBBCHBHHBCHB\", \"NBBNBNBBCCNBCNCCNBBNBBNBBBNBBNBBCBHCBHHNHCBBCBHCB\"]"
   ]
  },
  {
   "cell_type": "code",
   "execution_count": 7,
   "id": "6251536b-2b04-49ad-9fd6-dac195f4c932",
   "metadata": {},
   "outputs": [],
   "source": [
    "def check_ans(a,b):\n",
    "    s = \"\"\n",
    "    for i in range(len(a)):\n",
    "        try:\n",
    "            if a[i] == b[i]:\n",
    "                s += a[i]\n",
    "            else:\n",
    "                s += \"_\"\n",
    "        except:\n",
    "            pass\n",
    "    print(s)\n",
    "    return s"
   ]
  },
  {
   "cell_type": "code",
   "execution_count": 8,
   "id": "72b8f11d-18f0-4f2e-9438-75aff4b78bc1",
   "metadata": {
    "tags": []
   },
   "outputs": [
    {
     "data": {
      "text/plain": [
       "2712"
      ]
     },
     "execution_count": 8,
     "metadata": {},
     "output_type": "execute_result"
    }
   ],
   "source": [
    "def day(te, maxstep):\n",
    "    template = te[0]\n",
    "    rules = {}\n",
    "    for row in te[2:]:\n",
    "        row = row.split(\" -> \")\n",
    "        rules[row[0]] = row[1]\n",
    "    for s in range(maxstep):\n",
    "        newelement = {} # new elements to be inserted: (index, element)\n",
    "        tlen = len(template)\n",
    "        # match rules\n",
    "        for r in rules.keys():\n",
    "            for t in range(tlen):\n",
    "                if r == template[t:(t+2)]:\n",
    "                    newelement[t+1] = rules[r]\n",
    "            '''\n",
    "            hits = [m.start() for m in re.finditer(r[0], template)]\n",
    "            for h in hits:\n",
    "                newelement[h+1] = rules[r]\n",
    "            '''\n",
    "            if 0:\n",
    "                print(template, r[0], hits, newelement)\n",
    "        # insert elements\n",
    "        templist = list(template)\n",
    "        k = sorted(newelement.keys(),reverse=True)\n",
    "        '''\n",
    "        for ne in k:\n",
    "            if s == 2 and 0:\n",
    "                print(\"\".join(templist), ne, newelement[ne])\n",
    "            templist.insert(ne, newelement[ne])\n",
    "        template = \"\".join(templist)\n",
    "        '''\n",
    "        for ne in k:\n",
    "            template = template[:ne] + newelement[ne] + template[ne:]\n",
    "        \n",
    "        if 0:\n",
    "            try:\n",
    "                #check_ans(template,sample_ans[s+1])\n",
    "                print(\"Step {}: ans: {}, my: {}, {}, lengths: {} / {}\".format(s, \n",
    "                    sample_ans[s+1], template, sample_ans[s+1]==template, len(sample_ans[s+1]), len(template)))\n",
    "            except:\n",
    "                print(\"Step {}: length: {}\".format(s, len(template)))\n",
    "        if maxstep > 10:\n",
    "            if s % 5 == 0:\n",
    "                print(\"Step {}, len(template) {}\".format(s, len(template)))\n",
    "    # count the mo\n",
    "    c = Counter(template)\n",
    "    mc = c.most_common()\n",
    "    ans = mc[0][1] - mc[-1][1]\n",
    "    return ans\n",
    "day(t, 10)"
   ]
  },
  {
   "cell_type": "markdown",
   "id": "99b4800a-d2b1-4fb8-a6fb-af8b8d5f80cb",
   "metadata": {},
   "source": [
    "## Part two"
   ]
  },
  {
   "cell_type": "code",
   "execution_count": 9,
   "id": "aa19182a-5969-4229-9b5c-8630a4e51d53",
   "metadata": {
    "tags": []
   },
   "outputs": [
    {
     "data": {
      "text/plain": [
       "8336623059567"
      ]
     },
     "execution_count": 9,
     "metadata": {},
     "output_type": "execute_result"
    }
   ],
   "source": [
    "def day2(te, maxstep):\n",
    "    #maxstep = 40\n",
    "    template = te[0]\n",
    "    rules = {}\n",
    "    for row in te[2:]:\n",
    "        row = row.split(\" -> \")\n",
    "        rules[row[0]] = row[1]\n",
    "    \n",
    "    pairs = Counter(template[i:(i+2)] for i in range(len(template)-1))\n",
    "    #print(pairs.items())\n",
    "    for s in range(maxstep):\n",
    "        newpairs = Counter()\n",
    "        for (a,b), n in pairs.items():\n",
    "            # a b c = V H 2\n",
    "            ne = rules[a+b] #new element\n",
    "            newpairs[a+ne] += n\n",
    "            newpairs[ne+b] += n\n",
    "            #print(a,b,n, ne)\n",
    "        tlen = len(template)\n",
    "        #print(newpairs)\n",
    "        pairs = newpairs\n",
    "    elements = Counter()\n",
    "    for (a,b), n in pairs.items():\n",
    "        elements[a] += n\n",
    "    elements[template[-1]] += 1 # add last b\n",
    "    mc = elements.most_common()\n",
    "    #print(mc[0], mc[-1])\n",
    "    ans = mc[0][1] - mc[-1][1]\n",
    "    return ans\n",
    "day2(t,40)"
   ]
  },
  {
   "cell_type": "code",
   "execution_count": 10,
   "id": "dd4ec44d-76b6-474d-9014-e7937ea3bcd0",
   "metadata": {},
   "outputs": [
    {
     "data": {
      "text/plain": [
       "2712"
      ]
     },
     "execution_count": 10,
     "metadata": {},
     "output_type": "execute_result"
    }
   ],
   "source": [
    "day2(t,10)"
   ]
  },
  {
   "cell_type": "markdown",
   "id": "52366ae7-ceec-409e-b637-0e61036c962f",
   "metadata": {},
   "source": [
    "## Run the programs"
   ]
  },
  {
   "cell_type": "code",
   "execution_count": 11,
   "id": "e7c79c46-6c97-4a27-92c3-cf2c5a54a320",
   "metadata": {},
   "outputs": [
    {
     "name": "stdout",
     "output_type": "stream",
     "text": [
      "Part 1:  2712\n",
      "Part 2:  8336623059567\n",
      "Elapsed time: 0.3972 s\n"
     ]
    }
   ],
   "source": [
    "if 1:\n",
    "    time0 = time.time()\n",
    "    if part == 1:\n",
    "        print(\"Part 1: \", day(t,10))\n",
    "    elif part == 2:\n",
    "        print(\"Part 2: \", day2(t,40))\n",
    "    elif part == 3:\n",
    "        #run both\n",
    "        print(\"Part 1: \", day(t,10))\n",
    "        print(\"Part 2: \", day2(t,40))\n",
    "    tdif = time.time() - time0\n",
    "    print(\"Elapsed time: {:.4f} s\".format(tdif))"
   ]
  }
 ],
 "metadata": {
  "kernelspec": {
   "display_name": "Python 3 (ipykernel)",
   "language": "python",
   "name": "python3"
  },
  "language_info": {
   "codemirror_mode": {
    "name": "ipython",
    "version": 3
   },
   "file_extension": ".py",
   "mimetype": "text/x-python",
   "name": "python",
   "nbconvert_exporter": "python",
   "pygments_lexer": "ipython3",
   "version": "3.9.2"
  }
 },
 "nbformat": 4,
 "nbformat_minor": 5
}
