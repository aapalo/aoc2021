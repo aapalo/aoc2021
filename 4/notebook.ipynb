{
 "cells": [
  {
   "cell_type": "code",
   "execution_count": 1,
   "id": "0959b566-c31a-4cf9-aa16-da1d71f21a52",
   "metadata": {},
   "outputs": [],
   "source": [
    "#!/usr/bin/python3"
   ]
  },
  {
   "cell_type": "code",
   "execution_count": 2,
   "id": "cb88d538-8fc9-46c7-8140-4675c3a6ceb1",
   "metadata": {},
   "outputs": [],
   "source": [
    "#from collections import Counter\n",
    "#import re\n",
    "#import os\n",
    "#import time\n",
    "from collections import defaultdict\n",
    "#from collections import deque"
   ]
  },
  {
   "cell_type": "code",
   "execution_count": 3,
   "id": "f55b7992-aa00-49bd-8321-64bbd778e15e",
   "metadata": {},
   "outputs": [],
   "source": [
    "date = 4\n",
    "dev = 0 # extra prints\n",
    "part = 3 # 1,2, or 3 for both\n",
    "# 0 or 1:\n",
    "samp = 0"
   ]
  },
  {
   "cell_type": "markdown",
   "id": "88404eb8-4034-4bdd-9dae-86e31d39efba",
   "metadata": {
    "tags": []
   },
   "source": [
    "## Read the input data "
   ]
  },
  {
   "cell_type": "code",
   "execution_count": 4,
   "id": "95c6dda8-9ebf-4edc-bfc1-078ba6b51e32",
   "metadata": {},
   "outputs": [],
   "source": [
    "#time0 = time.time()\n",
    "\n",
    "if samp == 1:\n",
    "    filename = \"/sample.txt\"\n",
    "else:\n",
    "    filename = \"/input.txt\"\n",
    "try:\n",
    "    with open(str(date) + filename,\"r\") as f:\n",
    "        t = f.readlines()\n",
    "except FileNotFoundError:\n",
    "    with open(\".\" + filename,\"r\") as f:\n",
    "        t = f.readlines()\n",
    "\n",
    "t = [(x.strip().replace('  ',' ')) for x in t]\n",
    "#t = [int(x) for x in t]"
   ]
  },
  {
   "cell_type": "code",
   "execution_count": 5,
   "id": "68d62a33-8fb5-4270-aec0-255413010b57",
   "metadata": {},
   "outputs": [],
   "source": [
    "## Run the program\n",
    "if 0:\n",
    "    if part == 1:\n",
    "        print(\"Part 1: \", day(t))\n",
    "    elif part == 2:\n",
    "        print(\"Part 2: \", day2(t))\n",
    "    elif part == 3:\n",
    "        pass\n",
    "        #run both\n",
    "        #print(\"Part 1: \", day(t))\n",
    "        #print(\"Part 2: \", day2(t))\n",
    "\n",
    "#tdif = time.time() - time0\n",
    "#print(\"Elapsed time: {:.4f} s\".format(tdif))"
   ]
  },
  {
   "cell_type": "markdown",
   "id": "e4a219ce-1941-48f2-9b11-4717581c82c9",
   "metadata": {},
   "source": [
    "## Part one"
   ]
  },
  {
   "cell_type": "code",
   "execution_count": 6,
   "id": "5ae65db8-f67a-41e8-bf4e-228c0eae27e6",
   "metadata": {},
   "outputs": [],
   "source": [
    "# when a number is drawn, mark the corresponding numbers with \"x\"\n",
    "# bc: bingo cards dict\n",
    "# dn: drawn number\n",
    "def drawcard(bc, dn):\n",
    "    for k in bc.keys():\n",
    "        for r in range(5):\n",
    "            for c in range(5):\n",
    "                if bc[k][r][c] == dn:\n",
    "                    bc[k][r][c] = \"x\"\n",
    "                    break\n",
    "    return bc"
   ]
  },
  {
   "cell_type": "code",
   "execution_count": 7,
   "id": "d74fec7a-c65e-492b-8262-6b600c2fe401",
   "metadata": {},
   "outputs": [],
   "source": [
    "# check if bingo in the given card: \n",
    "# xxxxx either horisontally or vertically (diagonal ignored)\n",
    "def checkbingo(bc):\n",
    "    # check horisontal\n",
    "    for r in range(5):\n",
    "        if (bc[r].count(\"x\")) == 5:\n",
    "            return 1\n",
    "    # check vertical\n",
    "    for c in range(5):\n",
    "        xs = 0\n",
    "        for r in range(5):\n",
    "            if bc[r][c] == \"x\":\n",
    "                xs += 1\n",
    "        if xs == 5:\n",
    "            return 1\n",
    "    return 0"
   ]
  },
  {
   "cell_type": "code",
   "execution_count": 8,
   "id": "c4f27b7c-1e30-4488-a2a9-08472a8dd103",
   "metadata": {},
   "outputs": [],
   "source": [
    "def sumcard(bc):\n",
    "    total = 0\n",
    "    for r in range(5):\n",
    "        for c in range(5):\n",
    "            if bc[r][c] != \"x\":\n",
    "                total += bc[r][c]\n",
    "    return total"
   ]
  },
  {
   "cell_type": "code",
   "execution_count": 9,
   "id": "72b8f11d-18f0-4f2e-9438-75aff4b78bc1",
   "metadata": {
    "tags": []
   },
   "outputs": [
    {
     "name": "stdout",
     "output_type": "stream",
     "text": [
      "It's a bingo! Card 40, after number 17\n"
     ]
    },
    {
     "data": {
      "text/plain": [
       "14093"
      ]
     },
     "execution_count": 9,
     "metadata": {},
     "output_type": "execute_result"
    }
   ],
   "source": [
    "def day(te):\n",
    "    draw = te[0].split(\",\")\n",
    "    draw = [int(x) for x in draw]\n",
    "    i = 0 #row iterator\n",
    "    c = 0 #bingo card id\n",
    "    r = [] #bingo card row\n",
    "    cards = defaultdict(list)\n",
    "    while 1:\n",
    "        try:\n",
    "            row = te[2+i]\n",
    "        except IndexError:\n",
    "            cards[c] = r\n",
    "            break\n",
    "        #empty line -> new card\n",
    "        if len(row) == 0:\n",
    "            cards[c] = r\n",
    "            c += 1\n",
    "            r = []\n",
    "        else:\n",
    "            row = row.split(\" \")\n",
    "            row = [int(x) for x in row]\n",
    "            r.append(row)\n",
    "        i += 1\n",
    "    for d in draw:\n",
    "        drawcard(cards, d)\n",
    "        for c in cards.keys():\n",
    "            isbingo = checkbingo(cards[c])\n",
    "            if isbingo: \n",
    "                print(\"It's a bingo! Card {}, after number {}\".format(c, d))\n",
    "                return d * sumcard(cards[c]) \n",
    "    return 1\n",
    "day(t) # 14093, card 40, draw 17"
   ]
  },
  {
   "cell_type": "markdown",
   "id": "99b4800a-d2b1-4fb8-a6fb-af8b8d5f80cb",
   "metadata": {},
   "source": [
    "## Part two"
   ]
  },
  {
   "cell_type": "code",
   "execution_count": 10,
   "id": "aa19182a-5969-4229-9b5c-8630a4e51d53",
   "metadata": {
    "tags": []
   },
   "outputs": [
    {
     "name": "stdout",
     "output_type": "stream",
     "text": [
      "It's the last bingo! Card 62, after number 36\n"
     ]
    },
    {
     "data": {
      "text/plain": [
       "17388"
      ]
     },
     "execution_count": 10,
     "metadata": {},
     "output_type": "execute_result"
    }
   ],
   "source": [
    "def day2(te):\n",
    "    draw = te[0].split(\",\")\n",
    "    draw = [int(x) for x in draw]\n",
    "    i = 0 #row iterator\n",
    "    c = 0 #bingo card id\n",
    "    r = [] #bingo card row\n",
    "    cards = defaultdict(list)\n",
    "    while 1:\n",
    "        try:\n",
    "            row = te[2+i]\n",
    "        except IndexError:\n",
    "            cards[c] = r\n",
    "            break\n",
    "        #empty line -> new card\n",
    "        if len(row) == 0:\n",
    "            cards[c] = r\n",
    "            c += 1\n",
    "            r = []\n",
    "        else:\n",
    "            row = row.split(\" \")\n",
    "            row = [int(x) for x in row]\n",
    "            r.append(row)\n",
    "        i += 1\n",
    "    for d in draw:\n",
    "        drawcard(cards, d)\n",
    "        bingoes = []\n",
    "        for c in cards.keys():\n",
    "            isbingo = checkbingo(cards[c])\n",
    "            if isbingo: \n",
    "                bingoes.append(c)\n",
    "                isbingo = 0\n",
    "                if len(cards.keys()) == 1:\n",
    "                    for k in cards.keys():\n",
    "                        print(\"It's the last bingo! Card {}, after number {}\".format(c, d))\n",
    "                        return sumcard(cards[k]) * d\n",
    "        for b in bingoes:\n",
    "            cards.pop(b)\n",
    "        \n",
    "    return 1\n",
    "day2(t)"
   ]
  }
 ],
 "metadata": {
  "kernelspec": {
   "display_name": "Python 3 (ipykernel)",
   "language": "python",
   "name": "python3"
  },
  "language_info": {
   "codemirror_mode": {
    "name": "ipython",
    "version": 3
   },
   "file_extension": ".py",
   "mimetype": "text/x-python",
   "name": "python",
   "nbconvert_exporter": "python",
   "pygments_lexer": "ipython3",
   "version": "3.9.2"
  }
 },
 "nbformat": 4,
 "nbformat_minor": 5
}
