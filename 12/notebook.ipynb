{
 "cells": [
  {
   "cell_type": "code",
   "execution_count": 1,
   "id": "0959b566-c31a-4cf9-aa16-da1d71f21a52",
   "metadata": {},
   "outputs": [],
   "source": [
    "#!/usr/bin/python3"
   ]
  },
  {
   "cell_type": "code",
   "execution_count": 2,
   "id": "cb88d538-8fc9-46c7-8140-4675c3a6ceb1",
   "metadata": {},
   "outputs": [],
   "source": [
    "#from collections import Counter\n",
    "#import re\n",
    "#import os\n",
    "import time\n",
    "from collections import defaultdict\n",
    "#from collections import deque"
   ]
  },
  {
   "cell_type": "code",
   "execution_count": 3,
   "id": "f55b7992-aa00-49bd-8321-64bbd778e15e",
   "metadata": {},
   "outputs": [
    {
     "name": "stdout",
     "output_type": "stream",
     "text": [
      "https://adventofcode.com/2021/day/12\n"
     ]
    }
   ],
   "source": [
    "date = 12\n",
    "dev = 0 # extra prints\n",
    "part = 3 # 1,2, or 3 for both\n",
    "# 0 or 1:\n",
    "samp = 0\n",
    "print(\"https://adventofcode.com/2021/day/{}\".format(date))"
   ]
  },
  {
   "cell_type": "markdown",
   "id": "88404eb8-4034-4bdd-9dae-86e31d39efba",
   "metadata": {
    "tags": []
   },
   "source": [
    "## Read the input data "
   ]
  },
  {
   "cell_type": "code",
   "execution_count": 4,
   "id": "95c6dda8-9ebf-4edc-bfc1-078ba6b51e32",
   "metadata": {},
   "outputs": [],
   "source": [
    "#time0 = time.time()\n",
    "\n",
    "if samp == 1:\n",
    "    filename = \"/sample.txt\"\n",
    "else:\n",
    "    filename = \"/input.txt\"\n",
    "try:\n",
    "    with open(str(date) + filename,\"r\") as f:\n",
    "        t = f.readlines()\n",
    "except FileNotFoundError:\n",
    "    with open(\".\" + filename,\"r\") as f:\n",
    "        t = f.readlines()\n",
    "\n",
    "t = [(x.strip().replace('  ',' ')) for x in t]\n",
    "#t = [int(x) for x in t]"
   ]
  },
  {
   "cell_type": "markdown",
   "id": "e4a219ce-1941-48f2-9b11-4717581c82c9",
   "metadata": {},
   "source": [
    "## Part one"
   ]
  },
  {
   "cell_type": "code",
   "execution_count": 5,
   "id": "5ae65db8-f67a-41e8-bf4e-228c0eae27e6",
   "metadata": {},
   "outputs": [],
   "source": [
    "def step(c, caves, visited):\n",
    "    #print(\"Current {},\\t in visited: {} \\t visited: {} \".format(c, (c in visited), visited))\n",
    "    if c == \"end\":\n",
    "        return 1\n",
    "    if (c in visited) and c.islower():\n",
    "        return 0\n",
    "    #visited.add(c)\n",
    "    visited = visited | {c}\n",
    "    s = 0\n",
    "    for i in caves[c]:\n",
    "        #print(\"Next: {},\\t s={}\".format(i, s))\n",
    "        s += step(i, caves, visited)\n",
    "    return s"
   ]
  },
  {
   "cell_type": "code",
   "execution_count": 6,
   "id": "72b8f11d-18f0-4f2e-9438-75aff4b78bc1",
   "metadata": {
    "tags": []
   },
   "outputs": [
    {
     "data": {
      "text/plain": [
       "5920"
      ]
     },
     "execution_count": 6,
     "metadata": {},
     "output_type": "execute_result"
    }
   ],
   "source": [
    "def day(te):\n",
    "    visited = set()\n",
    "    caves = defaultdict(list)\n",
    "    for r in te:\n",
    "        (a,b) = (r.split(\"-\"))\n",
    "        caves[a].append(b)\n",
    "        caves[b].append(a)\n",
    "        #print(a,b)\n",
    "    #text.isupper()\n",
    "    if(0):\n",
    "        for k in caves.keys():\n",
    "            print(k, caves[k])\n",
    "    ans = (step(\"start\", caves, visited))\n",
    "    return ans\n",
    "day(t)"
   ]
  },
  {
   "cell_type": "markdown",
   "id": "99b4800a-d2b1-4fb8-a6fb-af8b8d5f80cb",
   "metadata": {},
   "source": [
    "## Part two"
   ]
  },
  {
   "cell_type": "code",
   "execution_count": 7,
   "id": "574b9b37-6aa3-4fe9-b6f2-9da55c177ab7",
   "metadata": {},
   "outputs": [],
   "source": [
    "def steptwo(c, caves, visited, twice):\n",
    "    #print(\"Current {},\\t in visited: {} \\t visited: {} \".format(c, (c in visited), visited))\n",
    "    if c == \"end\":\n",
    "        return 1\n",
    "    # \"start\" visited a second time:\n",
    "    if (c == \"start\") and (c in visited):\n",
    "        return 0\n",
    "    if (c in visited) and (c.islower()):\n",
    "        # small cave c visited for the first time\n",
    "        if twice == 0:\n",
    "            twice = c\n",
    "        else:\n",
    "            # small cave c visited for the _second_ time\n",
    "            return 0\n",
    "    \n",
    "    visited = visited | {c}\n",
    "    s = 0\n",
    "    for i in caves[c]:\n",
    "        #print(\"Next: {},\\t s={}\".format(i, s))\n",
    "        s += steptwo(i, caves, visited, twice)\n",
    "    return s"
   ]
  },
  {
   "cell_type": "code",
   "execution_count": 8,
   "id": "aa19182a-5969-4229-9b5c-8630a4e51d53",
   "metadata": {
    "tags": []
   },
   "outputs": [
    {
     "data": {
      "text/plain": [
       "155477"
      ]
     },
     "execution_count": 8,
     "metadata": {},
     "output_type": "execute_result"
    }
   ],
   "source": [
    "def day2(te):\n",
    "    caves = defaultdict(list)\n",
    "    for r in te:\n",
    "        (a,b) = (r.split(\"-\"))\n",
    "        caves[a].append(b)\n",
    "        caves[b].append(a)\n",
    "        #print(a,b)\n",
    "    #text.isupper()\n",
    "    if(0):\n",
    "        for k in caves.keys():\n",
    "            print(k, caves[k])\n",
    "    ans = (steptwo(\"start\", caves, set(), 0))\n",
    "    return ans\n",
    "day2(t)"
   ]
  },
  {
   "cell_type": "markdown",
   "id": "52366ae7-ceec-409e-b637-0e61036c962f",
   "metadata": {},
   "source": [
    "## Run the programs"
   ]
  },
  {
   "cell_type": "code",
   "execution_count": 9,
   "id": "e7c79c46-6c97-4a27-92c3-cf2c5a54a320",
   "metadata": {},
   "outputs": [
    {
     "name": "stdout",
     "output_type": "stream",
     "text": [
      "Part 1:  5920\n",
      "Part 2:  155477\n",
      "Elapsed time: 0.9063 s\n"
     ]
    }
   ],
   "source": [
    "if 1:\n",
    "    time0 = time.time()\n",
    "    if part == 1:\n",
    "        print(\"Part 1: \", day(t))\n",
    "    elif part == 2:\n",
    "        print(\"Part 2: \", day2(t))\n",
    "    elif part == 3:\n",
    "        #run both\n",
    "        print(\"Part 1: \", day(t))\n",
    "        print(\"Part 2: \", day2(t))\n",
    "    tdif = time.time() - time0\n",
    "    print(\"Elapsed time: {:.4f} s\".format(tdif))"
   ]
  }
 ],
 "metadata": {
  "kernelspec": {
   "display_name": "Python 3 (ipykernel)",
   "language": "python",
   "name": "python3"
  },
  "language_info": {
   "codemirror_mode": {
    "name": "ipython",
    "version": 3
   },
   "file_extension": ".py",
   "mimetype": "text/x-python",
   "name": "python",
   "nbconvert_exporter": "python",
   "pygments_lexer": "ipython3",
   "version": "3.9.2"
  }
 },
 "nbformat": 4,
 "nbformat_minor": 5
}
