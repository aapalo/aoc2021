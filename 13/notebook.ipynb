{
 "cells": [
  {
   "cell_type": "code",
   "execution_count": 1,
   "id": "0959b566-c31a-4cf9-aa16-da1d71f21a52",
   "metadata": {},
   "outputs": [],
   "source": [
    "#!/usr/bin/python3"
   ]
  },
  {
   "cell_type": "code",
   "execution_count": 2,
   "id": "cb88d538-8fc9-46c7-8140-4675c3a6ceb1",
   "metadata": {},
   "outputs": [],
   "source": [
    "#from collections import Counter\n",
    "#import re\n",
    "#import os\n",
    "import time\n",
    "#from collections import defaultdict\n",
    "#from collections import deque"
   ]
  },
  {
   "cell_type": "code",
   "execution_count": 3,
   "id": "f55b7992-aa00-49bd-8321-64bbd778e15e",
   "metadata": {},
   "outputs": [
    {
     "name": "stdout",
     "output_type": "stream",
     "text": [
      "https://adventofcode.com/2021/day/13\n"
     ]
    }
   ],
   "source": [
    "date = 13\n",
    "dev = 1 # extra prints\n",
    "part = 3 # 1,2, or 3 for both\n",
    "# 0, 1, or 3:\n",
    "samp = 0\n",
    "print(\"https://adventofcode.com/2021/day/{}\".format(date))"
   ]
  },
  {
   "cell_type": "markdown",
   "id": "88404eb8-4034-4bdd-9dae-86e31d39efba",
   "metadata": {
    "tags": []
   },
   "source": [
    "## Read the input data "
   ]
  },
  {
   "cell_type": "code",
   "execution_count": 4,
   "id": "95c6dda8-9ebf-4edc-bfc1-078ba6b51e32",
   "metadata": {},
   "outputs": [],
   "source": [
    "#time0 = time.time()\n",
    "\n",
    "if samp == 1:\n",
    "    filename = \"/sample.txt\"\n",
    "elif samp == 3:\n",
    "    filename = \"/input13.txt\"\n",
    "else:\n",
    "    filename = \"/input.txt\"\n",
    "try:\n",
    "    with open(str(date) + filename,\"r\") as f:\n",
    "        t = f.readlines()\n",
    "except FileNotFoundError:\n",
    "    with open(\".\" + filename,\"r\") as f:\n",
    "        t = f.readlines()\n",
    "\n",
    "t = [(x.strip().replace('  ',' ')) for x in t]\n",
    "#t = [int(x) for x in t]"
   ]
  },
  {
   "cell_type": "markdown",
   "id": "e4a219ce-1941-48f2-9b11-4717581c82c9",
   "metadata": {},
   "source": [
    "## Part one"
   ]
  },
  {
   "cell_type": "code",
   "execution_count": 5,
   "id": "5ae65db8-f67a-41e8-bf4e-228c0eae27e6",
   "metadata": {},
   "outputs": [],
   "source": [
    "def foldpaper_x(paper, pos):\n",
    "    newpaper = []\n",
    "    for r in range(len(paper)):\n",
    "        newpaper.append([0] * pos)\n",
    "        for c in range(pos):\n",
    "            newpaper[r][c] = paper[r][c] or paper[r][-(1+c)]\n",
    "            \n",
    "    return newpaper"
   ]
  },
  {
   "cell_type": "code",
   "execution_count": 6,
   "id": "1391c024-7d65-4563-a7c5-9a88c2669e44",
   "metadata": {},
   "outputs": [],
   "source": [
    "def foldpaper_y(paper, pos):\n",
    "    newpaper = []\n",
    "    for r in range(pos):\n",
    "        newpaper.append(paper[r])\n",
    "        for c in range(len(paper[0])):\n",
    "            try:\n",
    "                newpaper[r][c] |= paper[pos*2-r][c]\n",
    "            except:\n",
    "                #print(\"ERROR: pos {}, pos*2-r {}, len {}\".format(pos, pos*2-r, len(paper)))\n",
    "                pass\n",
    "    return newpaper"
   ]
  },
  {
   "cell_type": "code",
   "execution_count": 7,
   "id": "7fd86c26-5293-4ee6-aa0c-ae82ae605eeb",
   "metadata": {},
   "outputs": [],
   "source": [
    "def printpaper(paper):\n",
    "    # print dots\n",
    "    for row in paper:\n",
    "        r = \"\"\n",
    "        for c in row:\n",
    "            if c > 0:\n",
    "                r += \"#\"\n",
    "            else:\n",
    "                r += \" \"\n",
    "        print(r)\n",
    "    return 1"
   ]
  },
  {
   "cell_type": "code",
   "execution_count": 8,
   "id": "72b8f11d-18f0-4f2e-9438-75aff4b78bc1",
   "metadata": {
    "tags": []
   },
   "outputs": [
    {
     "name": "stdout",
     "output_type": "stream",
     "text": [
      "#### ###  ####  ##  #  #  ##  #  # #  # \n",
      "#    #  #    # #  # # #  #  # #  # #  # \n",
      "###  #  #   #  #    ##   #    #### #  # \n",
      "#    ###   #   # ## # #  #    #  # #  # \n",
      "#    #    #    #  # # #  #  # #  # #  # \n",
      "#### #    ####  ### #  #  ##  #  #  ##  \n"
     ]
    },
    {
     "data": {
      "text/plain": [
       "99"
      ]
     },
     "execution_count": 8,
     "metadata": {},
     "output_type": "execute_result"
    }
   ],
   "source": [
    "def day(te, p):\n",
    "    folds = []\n",
    "    paper = []\n",
    "    coords = set()\n",
    "    x = []\n",
    "    y = []\n",
    "    for row in te:\n",
    "        try:\n",
    "            if \"fold\" not in row:\n",
    "                row = row.split(\",\")\n",
    "                x.append(int(row[0]))\n",
    "                y.append(int(row[1]))\n",
    "            else:\n",
    "                row = row.split(\"=\")\n",
    "                axis = row[0].split(\" \")[-1]\n",
    "                fol = int(row[1])\n",
    "                folds.append((axis,fol))\n",
    "        except:\n",
    "            continue\n",
    "    \n",
    "    # create the empty paper\n",
    "    #for row in range(max(y)+1):\n",
    "        #paper.append([0] * (max(x)+1))\n",
    "    paper = [[0] * (max(x)+1) for i in range(max(y)+1)]\n",
    "    \n",
    "    # add the dots\n",
    "    for i in range(len(y)):\n",
    "        paper[y[i]][x[i]] = 1\n",
    "    \n",
    "    # fold the paper\n",
    "    alldots = []\n",
    "    for (axis, location) in folds:            \n",
    "        if axis == \"x\":\n",
    "            paper = (foldpaper_x(paper,location))\n",
    "        elif axis == \"y\":\n",
    "            paper = (foldpaper_y(paper,location))\n",
    "        # calculate dots\n",
    "        dots = 0\n",
    "        for row in paper:\n",
    "            dots += sum(row)\n",
    "            if 0:\n",
    "                print(row)\n",
    "        if p == 1:\n",
    "            return dots\n",
    "        alldots.append(dots)\n",
    "    #print(alldots)\n",
    "    printpaper(paper)\n",
    "    return dots\n",
    "day(t,2)"
   ]
  },
  {
   "cell_type": "markdown",
   "id": "99b4800a-d2b1-4fb8-a6fb-af8b8d5f80cb",
   "metadata": {},
   "source": [
    "## Part two"
   ]
  },
  {
   "cell_type": "code",
   "execution_count": 9,
   "id": "aa19182a-5969-4229-9b5c-8630a4e51d53",
   "metadata": {
    "tags": []
   },
   "outputs": [
    {
     "name": "stdout",
     "output_type": "stream",
     "text": [
      "#### ###  ####  ##  #  #  ##  #  # #  # \n",
      "#    #  #    # #  # # #  #  # #  # #  # \n",
      "###  #  #   #  #    ##   #    #### #  # \n",
      "#    ###   #   # ## # #  #    #  # #  # \n",
      "#    #    #    #  # # #  #  # #  # #  # \n",
      "#### #    ####  ### #  #  ##  #  #  ##  \n"
     ]
    },
    {
     "data": {
      "text/plain": [
       "99"
      ]
     },
     "execution_count": 9,
     "metadata": {},
     "output_type": "execute_result"
    }
   ],
   "source": [
    "def day2(te):\n",
    "    return day(t,2)\n",
    "day2(t)"
   ]
  },
  {
   "cell_type": "markdown",
   "id": "52366ae7-ceec-409e-b637-0e61036c962f",
   "metadata": {},
   "source": [
    "## Run the programs"
   ]
  },
  {
   "cell_type": "code",
   "execution_count": 10,
   "id": "e7c79c46-6c97-4a27-92c3-cf2c5a54a320",
   "metadata": {},
   "outputs": [
    {
     "name": "stdout",
     "output_type": "stream",
     "text": [
      "Part 1:  837\n",
      "#### ###  ####  ##  #  #  ##  #  # #  # \n",
      "#    #  #    # #  # # #  #  # #  # #  # \n",
      "###  #  #   #  #    ##   #    #### #  # \n",
      "#    ###   #   # ## # #  #    #  # #  # \n",
      "#    #    #    #  # # #  #  # #  # #  # \n",
      "#### #    ####  ### #  #  ##  #  #  ##  \n",
      "Part 2:  99\n",
      "Elapsed time: 0.3687 s\n"
     ]
    }
   ],
   "source": [
    "if 1:\n",
    "    time0 = time.time()\n",
    "    if part == 1:\n",
    "        print(\"Part 1: \", day(t,1))\n",
    "    elif part == 2:\n",
    "        print(\"Part 2: \", day2(t))\n",
    "    elif part == 3:\n",
    "        #run both\n",
    "        print(\"Part 1: \", day(t,1))\n",
    "        print(\"Part 2: \", day2(t))\n",
    "    tdif = time.time() - time0\n",
    "    print(\"Elapsed time: {:.4f} s\".format(tdif))"
   ]
  }
 ],
 "metadata": {
  "kernelspec": {
   "display_name": "Python 3 (ipykernel)",
   "language": "python",
   "name": "python3"
  },
  "language_info": {
   "codemirror_mode": {
    "name": "ipython",
    "version": 3
   },
   "file_extension": ".py",
   "mimetype": "text/x-python",
   "name": "python",
   "nbconvert_exporter": "python",
   "pygments_lexer": "ipython3",
   "version": "3.9.2"
  }
 },
 "nbformat": 4,
 "nbformat_minor": 5
}
