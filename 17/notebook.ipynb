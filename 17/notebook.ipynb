{
 "cells": [
  {
   "cell_type": "code",
   "execution_count": 99,
   "id": "0959b566-c31a-4cf9-aa16-da1d71f21a52",
   "metadata": {},
   "outputs": [],
   "source": [
    "#!/usr/bin/python3"
   ]
  },
  {
   "cell_type": "code",
   "execution_count": 100,
   "id": "cb88d538-8fc9-46c7-8140-4675c3a6ceb1",
   "metadata": {},
   "outputs": [],
   "source": [
    "#from collections import Counter\n",
    "#import re\n",
    "#import os\n",
    "import time\n",
    "#from collections import defaultdict\n",
    "#from collections import deque"
   ]
  },
  {
   "cell_type": "code",
   "execution_count": 101,
   "id": "f55b7992-aa00-49bd-8321-64bbd778e15e",
   "metadata": {},
   "outputs": [
    {
     "name": "stdout",
     "output_type": "stream",
     "text": [
      "https://adventofcode.com/2021/day/17\n"
     ]
    }
   ],
   "source": [
    "date = 17\n",
    "dev = 0 # extra prints\n",
    "# 0 or 1:\n",
    "samp = 0\n",
    "print(\"https://adventofcode.com/2021/day/{}\".format(date))"
   ]
  },
  {
   "cell_type": "markdown",
   "id": "88404eb8-4034-4bdd-9dae-86e31d39efba",
   "metadata": {
    "tags": []
   },
   "source": [
    "## Read the input data "
   ]
  },
  {
   "cell_type": "code",
   "execution_count": 102,
   "id": "95c6dda8-9ebf-4edc-bfc1-078ba6b51e32",
   "metadata": {},
   "outputs": [],
   "source": [
    "#time0 = time.time()\n",
    "\n",
    "if samp == 1:\n",
    "    t = \"target area: x=20..30, y=-10..-5\"\n",
    "else:\n",
    "    t = \"target area: x=29..73, y=-248..-194\"\n",
    "\n",
    "t = t.replace(\"=\", \" \").replace(\"..\", \" \").replace(\",\", \"\").split(\" \")\n",
    "x = [int(t[3]),int(t[4])]\n",
    "y = [int(t[6]),int(t[7])]"
   ]
  },
  {
   "cell_type": "markdown",
   "id": "e4a219ce-1941-48f2-9b11-4717581c82c9",
   "metadata": {},
   "source": [
    "## Part one"
   ]
  },
  {
   "cell_type": "code",
   "execution_count": null,
   "id": "5ae65db8-f67a-41e8-bf4e-228c0eae27e6",
   "metadata": {},
   "outputs": [],
   "source": []
  },
  {
   "cell_type": "code",
   "execution_count": 103,
   "id": "72b8f11d-18f0-4f2e-9438-75aff4b78bc1",
   "metadata": {
    "tags": []
   },
   "outputs": [],
   "source": [
    "def day(tx, ty):\n",
    "    speeds = []\n",
    "    cooly = set()\n",
    "    for vx in range(1,tx[1]*3):\n",
    "        for vy in range(ty[0]*2,300):\n",
    "            pos = [0,0]\n",
    "            ymax = 0\n",
    "            v = [vx, vy]\n",
    "            #print(\"New initial speed: \", v)\n",
    "            for i in range(1000):\n",
    "                pos[0] += v[0]\n",
    "                pos[1] += v[1]\n",
    "                ymax = max(ymax, pos[1])\n",
    "                if tx[0] <= pos[0] <= tx[1]:\n",
    "                    if ty[0] <= pos[1] <= ty[1]:\n",
    "                        speeds.append((vx,vy))\n",
    "                        cooly.add(ymax)\n",
    "                        #print(\"\\t \\tCool speed: \", vx, vy, pos)\n",
    "                        break\n",
    "                if v[0] > 0: \n",
    "                    v[0] -= 1\n",
    "                v[1] -= 1\n",
    "                if (tx[1] < pos[0]) or (pos[1] < ty[0]):\n",
    "                    #print(\"\\t No hits: \", pos)\n",
    "                    break\n",
    "                #if vx == 6 and vy == 0:\n",
    "                #    print(i,\"pos\", pos, \"v\", v)\n",
    "\n",
    "    return (max(cooly), len(speeds))\n",
    "    \n",
    "#day(x, y) # 30628"
   ]
  },
  {
   "cell_type": "markdown",
   "id": "99b4800a-d2b1-4fb8-a6fb-af8b8d5f80cb",
   "metadata": {},
   "source": [
    "## Part two"
   ]
  },
  {
   "cell_type": "code",
   "execution_count": null,
   "id": "574b9b37-6aa3-4fe9-b6f2-9da55c177ab7",
   "metadata": {},
   "outputs": [],
   "source": []
  },
  {
   "cell_type": "markdown",
   "id": "52366ae7-ceec-409e-b637-0e61036c962f",
   "metadata": {},
   "source": [
    "## Run the programs"
   ]
  },
  {
   "cell_type": "code",
   "execution_count": 104,
   "id": "e7c79c46-6c97-4a27-92c3-cf2c5a54a320",
   "metadata": {},
   "outputs": [
    {
     "name": "stdout",
     "output_type": "stream",
     "text": [
      "Parts 1 & 2:  (30628, 4433)\n",
      "Elapsed time: 0.9606 s\n"
     ]
    }
   ],
   "source": [
    "if 1:\n",
    "    time0 = time.time()\n",
    "    print(\"Parts 1 & 2: \", day(x,y))\n",
    "    tdif = time.time() - time0\n",
    "    print(\"Elapsed time: {:.4f} s\".format(tdif))"
   ]
  }
 ],
 "metadata": {
  "kernelspec": {
   "display_name": "Python 3 (ipykernel)",
   "language": "python",
   "name": "python3"
  },
  "language_info": {
   "codemirror_mode": {
    "name": "ipython",
    "version": 3
   },
   "file_extension": ".py",
   "mimetype": "text/x-python",
   "name": "python",
   "nbconvert_exporter": "python",
   "pygments_lexer": "ipython3",
   "version": "3.9.2"
  }
 },
 "nbformat": 4,
 "nbformat_minor": 5
}
