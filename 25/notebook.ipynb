{
 "cells": [
  {
   "cell_type": "code",
   "execution_count": 1,
   "id": "0959b566-c31a-4cf9-aa16-da1d71f21a52",
   "metadata": {},
   "outputs": [],
   "source": [
    "#!/usr/bin/python3"
   ]
  },
  {
   "cell_type": "code",
   "execution_count": 2,
   "id": "cb88d538-8fc9-46c7-8140-4675c3a6ceb1",
   "metadata": {},
   "outputs": [],
   "source": [
    "#from collections import Counter\n",
    "#import re\n",
    "#import os\n",
    "import time\n",
    "from collections import defaultdict\n",
    "#from collections import deque"
   ]
  },
  {
   "cell_type": "code",
   "execution_count": 3,
   "id": "f55b7992-aa00-49bd-8321-64bbd778e15e",
   "metadata": {},
   "outputs": [
    {
     "name": "stdout",
     "output_type": "stream",
     "text": [
      "https://adventofcode.com/2021/day/25\n"
     ]
    }
   ],
   "source": [
    "date = 25\n",
    "dev = 0 # extra prints\n",
    "part = 1 # 1,2, or 3 for both\n",
    "# 0 or 1:\n",
    "samp = 0\n",
    "print(\"https://adventofcode.com/2021/day/{}\".format(date))"
   ]
  },
  {
   "cell_type": "markdown",
   "id": "88404eb8-4034-4bdd-9dae-86e31d39efba",
   "metadata": {
    "tags": []
   },
   "source": [
    "## Read the input data "
   ]
  },
  {
   "cell_type": "code",
   "execution_count": 4,
   "id": "95c6dda8-9ebf-4edc-bfc1-078ba6b51e32",
   "metadata": {},
   "outputs": [],
   "source": [
    "#time0 = time.time()\n",
    "\n",
    "if samp == 1:\n",
    "    filename = \"/sample.txt\"\n",
    "else:\n",
    "    filename = \"/input.txt\"\n",
    "try:\n",
    "    with open(str(date) + filename,\"r\") as f:\n",
    "        t = f.readlines()\n",
    "except FileNotFoundError:\n",
    "    with open(\".\" + filename,\"r\") as f:\n",
    "        t = f.readlines()\n",
    "\n",
    "t = [(x.strip().replace('  ',' ')) for x in t]\n",
    "#t = [int(x) for x in t]"
   ]
  },
  {
   "cell_type": "markdown",
   "id": "e4a219ce-1941-48f2-9b11-4717581c82c9",
   "metadata": {},
   "source": [
    "## Part one"
   ]
  },
  {
   "cell_type": "code",
   "execution_count": 5,
   "id": "5ae65db8-f67a-41e8-bf4e-228c0eae27e6",
   "metadata": {},
   "outputs": [],
   "source": [
    "def step_east(sea):\n",
    "    newsea = defaultdict(lambda: \".\")\n",
    "    #check east\n",
    "    for r in range(rows):\n",
    "        for c in range(cols):\n",
    "            if sea[(r,c)] != \">\":\n",
    "                continue\n",
    "            # next col is +1, unless col is the right-most\n",
    "            nc = c+1 if c != cols-1 else 0\n",
    "            east = sea[(r,nc)]\n",
    "            if east == \".\":\n",
    "                newsea[(r,nc)] = \">\"\n",
    "                newsea[(r,c)] = \".\"\n",
    "    for k in newsea.keys():\n",
    "        #print(k, newsea[k])\n",
    "        sea[k] = newsea[k]\n",
    "    return (sea, len(newsea.keys()) )"
   ]
  },
  {
   "cell_type": "code",
   "execution_count": 6,
   "id": "0abee815-1f96-4ead-bf79-244c1d1077eb",
   "metadata": {},
   "outputs": [],
   "source": [
    "def step_south(sea):\n",
    "    newsea = defaultdict(lambda: \".\")\n",
    "    #check south\n",
    "    for r in range(rows):\n",
    "        for c in range(cols):\n",
    "            if sea[(r,c)] != \"v\":\n",
    "                continue\n",
    "            # next col is +1, unless col is the right-most\n",
    "            nr = r+1 if r != rows-1 else 0\n",
    "            south = sea[(nr,c)]\n",
    "            if south == \".\":\n",
    "                newsea[(nr,c)] = \"v\"\n",
    "                newsea[(r,c)] = \".\"\n",
    "    for k in newsea.keys():\n",
    "        #print(k, newsea[k])\n",
    "        sea[k] = newsea[k]\n",
    "    return (sea, len(newsea.keys()) )"
   ]
  },
  {
   "cell_type": "code",
   "execution_count": 7,
   "id": "9676ebb6-f9f9-42d2-8ce2-ba650df1d45a",
   "metadata": {},
   "outputs": [],
   "source": [
    "def print_sc(sea):\n",
    "    print(\" \")\n",
    "    for r in range(rows):\n",
    "        pr = \"\"\n",
    "        for c in range(cols):\n",
    "            pr += sea[(r,c)]\n",
    "        print(pr)\n",
    "    return 0"
   ]
  },
  {
   "cell_type": "code",
   "execution_count": 8,
   "id": "72b8f11d-18f0-4f2e-9438-75aff4b78bc1",
   "metadata": {
    "tags": []
   },
   "outputs": [
    {
     "name": "stdout",
     "output_type": "stream",
     "text": [
      ":), s=492\n"
     ]
    },
    {
     "data": {
      "text/plain": [
       "492"
      ]
     },
     "execution_count": 8,
     "metadata": {},
     "output_type": "execute_result"
    }
   ],
   "source": [
    "cols = len(t[0])\n",
    "rows = len(t)\n",
    "def day(te):\n",
    "    \n",
    "    sc = defaultdict(lambda: \".\")\n",
    "    for r in range(rows):\n",
    "        for c in range(cols):\n",
    "            sc[(r,c)] = te[r][c]\n",
    "    if samp:\n",
    "        for t in te:\n",
    "            print(t)\n",
    "        print(\"\\t-x-x-x-x-\")\n",
    "    s = 0\n",
    "    while 1:\n",
    "        s += 1\n",
    "        sc, newe = step_east(sc)\n",
    "        sc, news = step_south(sc)\n",
    "        if (newe == 0) and (news == 0):\n",
    "            print(\":), s={}\".format(s))\n",
    "            if samp:\n",
    "                print_sc(sc)\n",
    "            break\n",
    "        \n",
    "        #print_sc(sc)\n",
    "        if s > 70000:\n",
    "            print(\":(, s={}\".format(s))\n",
    "            break  \n",
    "    return s\n",
    "#day(t)"
   ]
  },
  {
   "cell_type": "markdown",
   "id": "99b4800a-d2b1-4fb8-a6fb-af8b8d5f80cb",
   "metadata": {},
   "source": [
    "## Part two"
   ]
  },
  {
   "cell_type": "code",
   "execution_count": null,
   "id": "574b9b37-6aa3-4fe9-b6f2-9da55c177ab7",
   "metadata": {},
   "outputs": [],
   "source": []
  },
  {
   "cell_type": "code",
   "execution_count": 9,
   "id": "aa19182a-5969-4229-9b5c-8630a4e51d53",
   "metadata": {
    "tags": []
   },
   "outputs": [
    {
     "data": {
      "text/plain": [
       "2"
      ]
     },
     "execution_count": 9,
     "metadata": {},
     "output_type": "execute_result"
    }
   ],
   "source": [
    "def day2(te):\n",
    "    \n",
    "    return 2\n",
    "day2(t)"
   ]
  },
  {
   "cell_type": "markdown",
   "id": "52366ae7-ceec-409e-b637-0e61036c962f",
   "metadata": {},
   "source": [
    "## Run the programs"
   ]
  },
  {
   "cell_type": "code",
   "execution_count": 10,
   "id": "e7c79c46-6c97-4a27-92c3-cf2c5a54a320",
   "metadata": {},
   "outputs": [
    {
     "name": "stdout",
     "output_type": "stream",
     "text": [
      ":), s=492\n",
      "Part 1:  492\n",
      "Elapsed time: 4.1878 s\n"
     ]
    }
   ],
   "source": [
    "if 1:\n",
    "    time0 = time.time()\n",
    "    if part == 1:\n",
    "        print(\"Part 1: \", day(t))\n",
    "    elif part == 2:\n",
    "        print(\"Part 2: \", day2(t))\n",
    "    elif part == 3:\n",
    "        #run both\n",
    "        print(\"Part 1: \", day(t))\n",
    "        print(\"Part 2: \", day2(t))\n",
    "    tdif = time.time() - time0\n",
    "    print(\"Elapsed time: {:.4f} s\".format(tdif))"
   ]
  }
 ],
 "metadata": {
  "kernelspec": {
   "display_name": "Python 3 (ipykernel)",
   "language": "python",
   "name": "python3"
  },
  "language_info": {
   "codemirror_mode": {
    "name": "ipython",
    "version": 3
   },
   "file_extension": ".py",
   "mimetype": "text/x-python",
   "name": "python",
   "nbconvert_exporter": "python",
   "pygments_lexer": "ipython3",
   "version": "3.9.2"
  }
 },
 "nbformat": 4,
 "nbformat_minor": 5
}
